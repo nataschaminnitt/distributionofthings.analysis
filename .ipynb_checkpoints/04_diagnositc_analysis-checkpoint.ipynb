{
 "cells": [
  {
   "cell_type": "markdown",
   "id": "68f5f64e-261c-405a-bb78-611353a25c56",
   "metadata": {},
   "source": [
    "## Import"
   ]
  },
  {
   "cell_type": "code",
   "execution_count": 23,
   "id": "9518f8e1-9d6d-4f38-a5ea-8d336cb3a6b7",
   "metadata": {},
   "outputs": [],
   "source": [
    "# Import libraries\n",
    "import pandas as pd\n",
    "import numpy as np\n",
    "import matplotlib.pyplot as plt\n",
    "import seaborn as sns\n",
    "from datetime import timedelta\n",
    "from tabulate import tabulate\n",
    "from scipy.stats import chi2_contingency\n",
    "import statsmodels.api as sm"
   ]
  },
  {
   "cell_type": "code",
   "execution_count": 25,
   "id": "4fcafd2d-041f-41fb-bf91-134486b02ae0",
   "metadata": {},
   "outputs": [],
   "source": [
    "# Create a file path\n",
    "data_path_raw = '/Users/nataschajademinnitt/Documents/5. Data Analysis/ipv_screening/data/raw/'\n",
    "data_path_processed = '/Users/nataschajademinnitt/Documents/5. Data Analysis/ipv_screening/data/processed/'\n",
    "figures_path = '/Users/nataschajademinnitt/Documents/5. Data Analysis/ipv_screening/results/figures/'\n",
    "tables_path = '/Users/nataschajademinnitt/Documents/5. Data Analysis/ipv_screening/results/tables/'\n",
    "\n",
    "# Set style\n",
    "sns.set_theme(style=\"whitegrid\", context=\"paper\")\n",
    "\n",
    "# Load data\n",
    "raw = pd.read_csv(data_path_processed + 'cleaned_data.csv', low_memory=False)"
   ]
  },
  {
   "cell_type": "code",
   "execution_count": 27,
   "id": "b91c8518-92d4-4a1a-bc9b-f578901cdd3a",
   "metadata": {},
   "outputs": [],
   "source": [
    "# Convert data time cateory or date/time\n",
    "clean = raw.copy()\n",
    "\n",
    "# Select column names by index\n",
    "columns_to_convert = list(clean.columns[1:28]) + list(clean.columns[30:32]) + list(clean.columns[34:37])\n",
    "\n",
    "# Convert selected columns to 'category'\n",
    "clean[columns_to_convert] = clean[columns_to_convert].astype('category')\n",
    "\n",
    "# Convert date to date and time\n",
    "clean['createdDate'] = pd.to_datetime(clean['createdDate'])\n",
    "clean['date_only'] = pd.to_datetime(clean['date_only'])\n",
    "\n",
    "# Ordering the days of the week and storing it as categorical data\n",
    "day_order = ['Monday', 'Tuesday', 'Wednesday', 'Thursday', 'Friday']\n",
    "\n",
    "# Convert 'weekday' column to an ordered categorical dtype\n",
    "clean['weekday'] = pd.Categorical(clean['weekday'], categories=day_order, ordered=True)"
   ]
  },
  {
   "cell_type": "code",
   "execution_count": 29,
   "id": "7437361a-0262-44c6-9b1d-bede217bfc40",
   "metadata": {},
   "outputs": [],
   "source": [
    "# Creating seperate datasets for ease of analysis\n",
    "gsh = clean[clean['location'] == 'Groote Schuur Hospital']\n",
    "mpdh = clean[clean['location'] == 'Mitchell’s Plain District Hospital']\n",
    "consent_yes = clean[clean['consent'] == 'yes']\n",
    "consent_no = clean[clean['consent'] == 'no']\n",
    "gsh_yes = gsh[gsh['consent'] == 'yes']\n",
    "mpdh_yes = mpdh[mpdh['consent'] == 'yes']"
   ]
  },
  {
   "cell_type": "markdown",
   "id": "a3d16b60-ef6f-43d8-894c-a6a1dc3db0fd",
   "metadata": {},
   "source": [
    "## Feeling safe and IPV outcome"
   ]
  },
  {
   "cell_type": "markdown",
   "id": "13004176-c673-4b44-91a8-3380e8f4557a",
   "metadata": {},
   "source": [
    "### At home"
   ]
  },
  {
   "cell_type": "code",
   "execution_count": 33,
   "id": "855e1956-4980-4a3d-82a8-7907dacb2fd5",
   "metadata": {},
   "outputs": [
    {
     "name": "stdout",
     "output_type": "stream",
     "text": [
      "\n",
      "Home Safety vs IPV Outcome:\n",
      "Chi-Square Statistic: 443.7662833908494\n",
      "P-value: 1.6397047012848733e-98\n"
     ]
    }
   ],
   "source": [
    "# Filter out rows with 'refused' in 'ipv_outcome'\n",
    "filtered_data = consent_yes[consent_yes['ipv_outcome'] != 'refused']\n",
    "\n",
    "# Create a contingency table for \"Safe at Home\" vs \"Screening Outcome\"\n",
    "home_table = pd.crosstab(\n",
    "    filtered_data['ipv_outcome'], \n",
    "    filtered_data['feel_safe_at_home']\n",
    ")\n",
    "\n",
    "# Chi-Square Test for Home Safety\n",
    "chi2_home, p_home, dof_home, expected_home = chi2_contingency(home_table)\n",
    "\n",
    "print(\"\\nHome Safety vs IPV Outcome:\")\n",
    "print(f\"Chi-Square Statistic: {chi2_home}\")\n",
    "print(f\"P-value: {p_home}\")"
   ]
  },
  {
   "cell_type": "markdown",
   "id": "47418bf0-8395-40cf-83bc-15c58c577b8e",
   "metadata": {},
   "source": [
    "These results indicate very strong evidence of a significant association between feeling safe in the community or feeling safe at home and IPV outcome. The results show that individuals who do not feel safe in their community or at home are significantly more likely to have a positive IPV screening outcome."
   ]
  },
  {
   "cell_type": "code",
   "execution_count": 39,
   "id": "4028cfdb-f91d-406a-96a4-b8c6f7cf1cbb",
   "metadata": {},
   "outputs": [
    {
     "name": "stdout",
     "output_type": "stream",
     "text": [
      "Optimization terminated successfully.\n",
      "         Current function value: 0.295847\n",
      "         Iterations 6\n",
      "                           Logit Regression Results                           \n",
      "==============================================================================\n",
      "Dep. Variable:     ipv_outcome_binary   No. Observations:                14548\n",
      "Model:                          Logit   Df Residuals:                    14546\n",
      "Method:                           MLE   Df Model:                            1\n",
      "Date:                Fri, 06 Dec 2024   Pseudo R-squ.:                 0.03558\n",
      "Time:                        13:09:37   Log-Likelihood:                -4304.0\n",
      "converged:                       True   LL-Null:                       -4462.8\n",
      "Covariance Type:            nonrobust   LLR p-value:                 4.961e-71\n",
      "====================================================================================\n",
      "                       coef    std err          z      P>|z|      [0.025      0.975]\n",
      "------------------------------------------------------------------------------------\n",
      "const               -0.9629      0.070    -13.731      0.000      -1.100      -0.825\n",
      "feel_safe_binary    -1.5074      0.077    -19.549      0.000      -1.659      -1.356\n",
      "====================================================================================\n",
      "Odds Ratio: 0.22\n",
      "Percentage Reduction in Odds of Positive IPV Screening: 78.0%\n"
     ]
    }
   ],
   "source": [
    "# Filter data for valid rows\n",
    "filtered_data = consent_yes[\n",
    "    (consent_yes['ipv_outcome'].isin(['pos', 'neg'])) &\n",
    "    (~consent_yes['feel_safe_at_home'].isna())\n",
    "]\n",
    "\n",
    "# Recode ipv_outcome to binary\n",
    "filtered_data['ipv_outcome_binary'] = (filtered_data['ipv_outcome'] == 'pos').astype(int)\n",
    "\n",
    "# Recode feel_safe_where_you_live to binary\n",
    "filtered_data['feel_safe_binary'] = (filtered_data['feel_safe_at_home'] == 'yes').astype(int)\n",
    "\n",
    "import statsmodels.api as sm\n",
    "\n",
    "# Define predictors and outcome\n",
    "X = sm.add_constant(filtered_data['feel_safe_binary'])  # Add constant\n",
    "y = filtered_data['ipv_outcome_binary']  # Binary outcome (0 = neg, 1 = pos)\n",
    "\n",
    "# Fit logistic regression model\n",
    "logit_model = sm.Logit(y, X).fit()\n",
    "\n",
    "# Display the summary\n",
    "print(logit_model.summary())\n",
    "\n",
    "# Extract the odds ratio\n",
    "odds_ratio = round(np.exp(logit_model.params['feel_safe_binary']), 2)\n",
    "\n",
    "# Calculate percentage change in odds\n",
    "percentage_change = round((odds_ratio - 1) * 100, 1)\n",
    "\n",
    "print(f\"Odds Ratio: {odds_ratio}\")\n",
    "print(f\"Percentage Reduction in Odds of Positive IPV Screening: {abs(percentage_change)}%\")"
   ]
  },
  {
   "cell_type": "markdown",
   "id": "f4c45999-43f5-4485-b53e-6948b3b44d33",
   "metadata": {},
   "source": [
    "The logistic regression results indicate a significant relationship between feeling safe and a positive IPV screening outcome. The odds ratio is 0.4, indicating that patients who feel safe where they live are 60% less likely to screen positively for IPV compared to those who do not feel safe."
   ]
  },
  {
   "cell_type": "markdown",
   "id": "963110bd-e0ab-4931-af1e-a7cd9fd70620",
   "metadata": {},
   "source": [
    "Patients who feel safe where they live are significantly less likely to screen positively for IPV (𝑝 < 0.001). The odds of a positive IPV screening decrease by 60% for individuals who report feeling safe compared to those who do not. This finding highlights the potential predictive value of perceived community and home safety in IPV risk assessments."
   ]
  },
  {
   "cell_type": "markdown",
   "id": "02c0950e-d406-4f86-b670-f442326c4b05",
   "metadata": {},
   "source": [
    "### In community"
   ]
  },
  {
   "cell_type": "code",
   "execution_count": 31,
   "id": "75b7bbf6-3923-46aa-89e4-2d84b5c6e5e3",
   "metadata": {},
   "outputs": [
    {
     "name": "stdout",
     "output_type": "stream",
     "text": [
      "Community Safety vs IPV Outcome:\n",
      "Chi-Square Statistic: 200.8521267437588\n",
      "P-value: 1.3610707399934049e-45\n"
     ]
    }
   ],
   "source": [
    "# Filter out rows with 'refused' in 'ipv_outcome'\n",
    "filtered_data = consent_yes[consent_yes['ipv_outcome'] != 'refused']\n",
    "\n",
    "# Create a contingency table for \"Safe in Community\" vs \"Screening Outcome\"\n",
    "community_table = pd.crosstab(\n",
    "    filtered_data['ipv_outcome'], \n",
    "    filtered_data['feel_safe_where_you_live']\n",
    ")\n",
    "\n",
    "# Chi-Square Test for Community Safety\n",
    "chi2_com, p_com, dof_com, expected_com = chi2_contingency(community_table)\n",
    "\n",
    "print(\"Community Safety vs IPV Outcome:\")\n",
    "print(f\"Chi-Square Statistic: {chi2_com}\")\n",
    "print(f\"P-value: {p_com}\")"
   ]
  },
  {
   "cell_type": "code",
   "execution_count": 37,
   "id": "e8defd2f-7ce8-436c-99db-1ef640384a16",
   "metadata": {},
   "outputs": [
    {
     "name": "stdout",
     "output_type": "stream",
     "text": [
      "Optimization terminated successfully.\n",
      "         Current function value: 0.300880\n",
      "         Iterations 6\n",
      "                           Logit Regression Results                           \n",
      "==============================================================================\n",
      "Dep. Variable:     ipv_outcome_binary   No. Observations:                14548\n",
      "Model:                          Logit   Df Residuals:                    14546\n",
      "Method:                           MLE   Df Model:                            1\n",
      "Date:                Fri, 06 Dec 2024   Pseudo R-squ.:                 0.01917\n",
      "Time:                        13:08:50   Log-Likelihood:                -4377.2\n",
      "converged:                       True   LL-Null:                       -4462.8\n",
      "Covariance Type:            nonrobust   LLR p-value:                 4.255e-39\n",
      "====================================================================================\n",
      "                       coef    std err          z      P>|z|      [0.025      0.975]\n",
      "------------------------------------------------------------------------------------\n",
      "const               -1.5580      0.057    -27.275      0.000      -1.670      -1.446\n",
      "feel_safe_binary    -0.9156      0.066    -13.825      0.000      -1.045      -0.786\n",
      "====================================================================================\n",
      "Odds Ratio: 0.4\n",
      "Percentage Reduction in Odds of Positive IPV Screening: 60.0%\n"
     ]
    }
   ],
   "source": [
    "# Filter data for valid rows\n",
    "filtered_data = consent_yes[\n",
    "    (consent_yes['ipv_outcome'].isin(['pos', 'neg'])) &\n",
    "    (~consent_yes['feel_safe_where_you_live'].isna())\n",
    "]\n",
    "\n",
    "# Recode ipv_outcome to binary\n",
    "filtered_data['ipv_outcome_binary'] = (filtered_data['ipv_outcome'] == 'pos').astype(int)\n",
    "\n",
    "# Recode feel_safe_where_you_live to binary\n",
    "filtered_data['feel_safe_binary'] = (filtered_data['feel_safe_where_you_live'] == 'yes').astype(int)\n",
    "\n",
    "import statsmodels.api as sm\n",
    "\n",
    "# Define predictors and outcome\n",
    "X = sm.add_constant(filtered_data['feel_safe_binary'])  # Add constant\n",
    "y = filtered_data['ipv_outcome_binary']  # Binary outcome (0 = neg, 1 = pos)\n",
    "\n",
    "# Fit logistic regression model\n",
    "logit_model = sm.Logit(y, X).fit()\n",
    "\n",
    "# Display the summary\n",
    "print(logit_model.summary())\n",
    "\n",
    "# Extract the odds ratio\n",
    "odds_ratio = round(np.exp(logit_model.params['feel_safe_binary']), 2)\n",
    "\n",
    "# Calculate percentage change in odds\n",
    "percentage_change = round((odds_ratio - 1) * 100, 1)\n",
    "\n",
    "print(f\"Odds Ratio: {odds_ratio}\")\n",
    "print(f\"Percentage Reduction in Odds of Positive IPV Screening: {abs(percentage_change)}%\")"
   ]
  },
  {
   "cell_type": "markdown",
   "id": "4fa070d6-dec7-4e79-b84a-1ba09e320702",
   "metadata": {},
   "source": [
    "# Export"
   ]
  },
  {
   "cell_type": "code",
   "execution_count": null,
   "id": "f1f3452f-5891-4f04-8328-08ac942b92ac",
   "metadata": {},
   "outputs": [],
   "source": [
    "# Export screening counts\n",
    "output_path = tables_path + 'diagnostic tests.xlsx'\n",
    "with pd.ExcelWriter(output_path, engine='xlsxwriter') as writer:\n",
    "    count_location.to_excel(writer, sheet_name='Location', index=False)\n",
    "    count_site.to_excel(writer, sheet_name='Site', index=False)\n",
    "    count_weekday.to_excel(writer, sheet_name='Weekday', index=False)\n",
    "    count_month.to_excel(writer, sheet_name='Month', index=False)\n",
    "    count_staff.to_excel(writer, sheet_name='Staff', index=False)\n",
    "    count_days.to_excel(writer, sheet_name='Screening days', index=False)\n",
    "    refusal_counts.to_excel(writer, sheet_name='Refusal reasons', index=False)"
   ]
  }
 ],
 "metadata": {
  "kernelspec": {
   "display_name": "Python 3 (ipykernel)",
   "language": "python",
   "name": "python3"
  },
  "language_info": {
   "codemirror_mode": {
    "name": "ipython",
    "version": 3
   },
   "file_extension": ".py",
   "mimetype": "text/x-python",
   "name": "python",
   "nbconvert_exporter": "python",
   "pygments_lexer": "ipython3",
   "version": "3.11.7"
  }
 },
 "nbformat": 4,
 "nbformat_minor": 5
}
