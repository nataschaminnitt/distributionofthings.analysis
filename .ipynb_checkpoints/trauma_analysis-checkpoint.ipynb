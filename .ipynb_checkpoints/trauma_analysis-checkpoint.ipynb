{
 "cells": [
  {
   "cell_type": "markdown",
   "id": "b09041dc-49e9-4453-9e86-abfa71e0650f",
   "metadata": {},
   "source": [
    "# Analysis of the trauma department"
   ]
  },
  {
   "cell_type": "markdown",
   "id": "5f920e71-a51b-4468-935a-4e8c9d5f263f",
   "metadata": {
    "jp-MarkdownHeadingCollapsed": true
   },
   "source": [
    "## Import"
   ]
  },
  {
   "cell_type": "code",
   "execution_count": 7,
   "id": "30185797-ee7e-43f4-9eda-a6650383845a",
   "metadata": {},
   "outputs": [],
   "source": [
    "# Import libraries\n",
    "import pandas as pd\n",
    "import numpy as np\n",
    "import matplotlib.pyplot as plt\n",
    "import seaborn as sns\n",
    "from datetime import timedelta\n",
    "from tabulate import tabulate"
   ]
  },
  {
   "cell_type": "code",
   "execution_count": 9,
   "id": "9a058d8d-dba5-4064-8f84-6d06cf28b86b",
   "metadata": {},
   "outputs": [],
   "source": [
    "# Create a file path\n",
    "data_path_raw = '/Users/nataschajademinnitt/Documents/5. Data Analysis/ipv_screening/data/raw/'\n",
    "data_path_processed = '/Users/nataschajademinnitt/Documents/5. Data Analysis/ipv_screening/data/processed/'\n",
    "figures_path = '/Users/nataschajademinnitt/Documents/5. Data Analysis/ipv_screening/results/figures/'\n",
    "tables_path = '/Users/nataschajademinnitt/Documents/5. Data Analysis/ipv_screening/results/tables/'\n",
    "\n",
    "# Set style\n",
    "sns.set_theme(style=\"whitegrid\", context=\"paper\")\n",
    "\n",
    "# Load data\n",
    "raw = pd.read_csv(data_path_processed + 'cleaned_data.csv', low_memory=False)"
   ]
  },
  {
   "cell_type": "code",
   "execution_count": 11,
   "id": "22d01cc4-76c1-4259-be85-771af7f6b66f",
   "metadata": {},
   "outputs": [],
   "source": [
    "# Convert data time cateory or date/time\n",
    "clean = raw.copy()\n",
    "\n",
    "# Select column names by index\n",
    "columns_to_convert = list(clean.columns[1:28]) + list(clean.columns[30:32]) + list(clean.columns[34:37])\n",
    "\n",
    "# Convert selected columns to 'category'\n",
    "clean[columns_to_convert] = clean[columns_to_convert].astype('category')\n",
    "\n",
    "# Convert date to date and time\n",
    "clean['createdDate'] = pd.to_datetime(clean['createdDate'])\n",
    "clean['date_only'] = pd.to_datetime(clean['date_only'])\n",
    "\n",
    "# Ordering the days of the week and storing it as categorical data\n",
    "day_order = ['Monday', 'Tuesday', 'Wednesday', 'Thursday', 'Friday']\n",
    "\n",
    "# Convert 'weekday' column to an ordered categorical dtype\n",
    "clean['weekday'] = pd.Categorical(clean['weekday'], categories=day_order, ordered=True)"
   ]
  },
  {
   "cell_type": "code",
   "execution_count": 53,
   "id": "948cafdf-7a22-4901-a11e-c573eed874dd",
   "metadata": {},
   "outputs": [],
   "source": [
    "df = clean[clean['screeningSite'] == 'Trauma department (inc. C12/C5)']\n",
    "df_agree = df[df['consent'] == 'yes']"
   ]
  },
  {
   "cell_type": "markdown",
   "id": "9b41f680-acae-4788-9a51-7fb33acc7d9f",
   "metadata": {
    "jp-MarkdownHeadingCollapsed": true
   },
   "source": [
    "## Analysis"
   ]
  },
  {
   "cell_type": "markdown",
   "id": "0811ea0a-697f-4710-989a-b1aaef34ea91",
   "metadata": {
    "jp-MarkdownHeadingCollapsed": true
   },
   "source": [
    "### Indicator overview"
   ]
  },
  {
   "cell_type": "code",
   "execution_count": 111,
   "id": "e80ee835-4153-430d-8d48-37406d0b75a1",
   "metadata": {
    "scrolled": true
   },
   "outputs": [
    {
     "name": "stdout",
     "output_type": "stream",
     "text": [
      "Column: status\n",
      "status\n",
      "Negative     708\n",
      "Closed       117\n",
      "Cold         113\n",
      "Refused       82\n",
      "Assigned       4\n",
      "Submitted      4\n",
      "Name: count, dtype: int64\n",
      "--------------------------------------------------\n",
      "Column: screeningSite\n",
      "screeningSite\n",
      "Trauma department (inc. C12/C5)    1028\n",
      "Antenatal clinic                      0\n",
      "Emergency Department                  0\n",
      "GSH - F17 (surgical ward)             0\n",
      "GSH - F26 (surgical ward)             0\n",
      "Gynae Casualty                        0\n",
      "Gynae OPD                             0\n",
      "Gynae wards                           0\n",
      "MPH - ER Overnight Wards              0\n",
      "MPH - Emergency Room                  0\n",
      "MPH Maternity Wards                   0\n",
      "MPH OPD                               0\n",
      "MPH Surgical Wards                    0\n",
      "Maternity wards                       0\n",
      "Other GSH dept                        0\n",
      "Name: count, dtype: int64\n",
      "--------------------------------------------------\n",
      "Column: consent\n",
      "consent\n",
      "yes    946\n",
      "no      82\n",
      "Name: count, dtype: int64\n",
      "--------------------------------------------------\n",
      "Column: screeningRefused\n",
      "screeningRefused\n",
      "other                  71\n",
      "lackOfUnderstanding     4\n",
      "notApplicable           4\n",
      "partnerPresent          2\n",
      "familyFriendPresent     1\n",
      "screenedBefore          0\n",
      "Name: count, dtype: int64\n",
      "--------------------------------------------------\n",
      "Column: feel_safe_where_you_live\n",
      "feel_safe_where_you_live\n",
      "yes    785\n",
      "no     161\n",
      "Name: count, dtype: int64\n",
      "--------------------------------------------------\n",
      "Column: feel_safe_at_home\n",
      "feel_safe_at_home\n",
      "yes    835\n",
      "no     111\n",
      "Name: count, dtype: int64\n",
      "--------------------------------------------------\n",
      "Column: afraid_of_partner\n",
      "afraid_of_partner\n",
      "no     861\n",
      "yes     85\n",
      "Name: count, dtype: int64\n",
      "--------------------------------------------------\n",
      "Column: last_year_partner_hurt_you\n",
      "last_year_partner_hurt_you\n",
      "no     823\n",
      "yes    123\n",
      "Name: count, dtype: int64\n",
      "--------------------------------------------------\n",
      "Column: last_year_partner_control_you\n",
      "last_year_partner_control_you\n",
      "no     804\n",
      "yes    142\n",
      "Name: count, dtype: int64\n",
      "--------------------------------------------------\n",
      "Column: last_year_threatened_you\n",
      "last_year_threatened_you\n",
      "no     839\n",
      "yes    107\n",
      "Name: count, dtype: int64\n",
      "--------------------------------------------------\n",
      "Column: anyone_else_experienced_violence_from\n",
      "anyone_else_experienced_violence_from\n",
      "no     837\n",
      "yes    109\n",
      "Name: count, dtype: int64\n",
      "--------------------------------------------------\n",
      "Column: help_with_this_now\n",
      "help_with_this_now\n",
      "yes    153\n",
      "no      85\n",
      "Name: count, dtype: int64\n",
      "--------------------------------------------------\n",
      "Column: refer_me_to_counsellor\n",
      "refer_me_to_counsellor\n",
      "yes    154\n",
      "no      84\n",
      "Name: count, dtype: int64\n",
      "--------------------------------------------------\n",
      "Column: acceptedBrochure\n",
      "acceptedBrochure\n",
      "no     546\n",
      "yes    400\n",
      "Name: count, dtype: int64\n",
      "--------------------------------------------------\n",
      "Column: acceptedInformationCard\n",
      "acceptedInformationCard\n",
      "yes    154\n",
      "no       0\n",
      "Name: count, dtype: int64\n",
      "--------------------------------------------------\n",
      "Column: socialWorker\n",
      "socialWorker\n",
      "Nolubabalo July       70\n",
      "Shamaine Gaxela       57\n",
      "Sindisiwe Dayimani    23\n",
      "Claudia Snyders        0\n",
      "Name: count, dtype: int64\n",
      "--------------------------------------------------\n",
      "Column: completedBy\n",
      "completedBy\n",
      "Patiwe Jentile        406\n",
      "Nombali Mchunu        262\n",
      "Lindokuhle Myaka      175\n",
      "Dineo Ntshabeleng     105\n",
      "Tabisa Xatalaza        46\n",
      "Shamaine Gaxela        21\n",
      "Nolubabalo July        10\n",
      "Sindisiwe Dayimani      3\n",
      "Ayesha Parker           0\n",
      "Claudia Snyders         0\n",
      "Name: count, dtype: int64\n",
      "--------------------------------------------------\n",
      "Column: counselledBy\n",
      "counselledBy\n",
      "Nolubabalo July       68\n",
      "Shamaine Gaxela       56\n",
      "Sindisiwe Dayimani    20\n",
      "Claudia Snyders        0\n",
      "Name: count, dtype: int64\n",
      "--------------------------------------------------\n",
      "Column: stakeholderReference\n",
      "stakeholderReference\n",
      "SAPS                                         16\n",
      "MOSAIC                                       14\n",
      "National Shelter Movement of South Africa     6\n",
      "DSD                                           3\n",
      "Saartie Baartman                              3\n",
      "Ilitha Labantu                                2\n",
      "DSD_Vredenberg                                1\n",
      "FAMSA_Observatory                             1\n",
      "Philisa Abafazi Bethu (Shelter)               1\n",
      "ACVV                                          0\n",
      "Trauma Counselling Centre                     0\n",
      "The Ark                                       0\n",
      "Sizakuyenza_Phillipi                          0\n",
      "Sisters Incorporated                          0\n",
      "Mater Domini                                  0\n",
      "Rape Crisis Cape Town Trust                   0\n",
      "CESVI_Phillipi                                0\n",
      "Khanyisa Foundation_Phillipi                  0\n",
      "Family Counselling Centre_Fishhoek            0\n",
      "FAMSA_Khayelisha                              0\n",
      "Women’s Legal Centre_ Phillipi                0\n",
      "Name: count, dtype: int64\n",
      "--------------------------------------------------\n",
      "Column: stakeholderReferralReason\n",
      "stakeholderReferralReason\n",
      "Legal services         19\n",
      "Police services        13\n",
      "Further counselling     8\n",
      "Shelter needed          7\n",
      "Name: count, dtype: int64\n",
      "--------------------------------------------------\n",
      "Column: stakeholderReference02\n",
      "stakeholderReference02\n",
      "SAPS                                         2\n",
      "Saartie Baartman                             1\n",
      "DSD                                          0\n",
      "FAMSA_Khayelisha                             0\n",
      "Hope House Counselling Centre                0\n",
      "Ilitha Labantu                               0\n",
      "MOSAIC                                       0\n",
      "National Shelter Movement of South Africa    0\n",
      "New World Foundation                         0\n",
      "Women’s Legal Centre_ Phillipi               0\n",
      "Name: count, dtype: int64\n",
      "--------------------------------------------------\n",
      "Column: stakeholderReferralReason02\n",
      "stakeholderReferralReason02\n",
      "Legal services         1\n",
      "Police services        1\n",
      "Shelter needed         1\n",
      "Further counselling    0\n",
      "Name: count, dtype: int64\n",
      "--------------------------------------------------\n",
      "Column: visitStakeholder\n",
      "visitStakeholder\n",
      "no     825\n",
      "yes     20\n",
      "Name: count, dtype: int64\n",
      "--------------------------------------------------\n",
      "Column: gender\n",
      "gender\n",
      "Female    1027\n",
      "Other        1\n",
      "Male         0\n",
      "Name: count, dtype: int64\n",
      "--------------------------------------------------\n",
      "Column: location\n",
      "location\n",
      "Groote Schuur Hospital                1028\n",
      "Mitchell’s Plain District Hospital       0\n",
      "Name: count, dtype: int64\n",
      "--------------------------------------------------\n",
      "Column: suspectedAbuse\n",
      "suspectedAbuse\n",
      "no     168\n",
      "yes      4\n",
      "Name: count, dtype: int64\n",
      "--------------------------------------------------\n",
      "Column: coldCaseReason\n",
      "coldCaseReason\n",
      "Default                      17\n",
      "Personal choice               1\n",
      "Patient left the hospital     0\n",
      "Unable to contact patient     0\n",
      "Name: count, dtype: int64\n",
      "--------------------------------------------------\n",
      "Column: ipv_outcome\n",
      "ipv_outcome\n",
      "neg        773\n",
      "pos        173\n",
      "refused     82\n",
      "Name: count, dtype: int64\n",
      "--------------------------------------------------\n",
      "Column: weekday\n",
      "weekday\n",
      "Monday       391\n",
      "Tuesday      178\n",
      "Thursday     170\n",
      "Wednesday    150\n",
      "Friday       139\n",
      "Name: count, dtype: int64\n",
      "--------------------------------------------------\n",
      "Column: site_cat\n",
      "site_cat\n",
      "Emergency and trauma       1028\n",
      "Gynae wards                   0\n",
      "Maternity                     0\n",
      "Other                         0\n",
      "Out patient departments       0\n",
      "Surgical wards                0\n",
      "Name: count, dtype: int64\n",
      "--------------------------------------------------\n",
      "Column: month_year\n",
      "month_year\n",
      "2023-11    91\n",
      "2024-10    77\n",
      "2024-07    74\n",
      "2024-11    73\n",
      "2023-10    72\n",
      "2024-03    72\n",
      "2024-08    71\n",
      "2024-05    64\n",
      "2024-01    62\n",
      "2024-02    62\n",
      "2024-09    59\n",
      "2024-06    57\n",
      "2024-04    56\n",
      "2023-09    53\n",
      "2023-08    45\n",
      "2023-12    40\n",
      "Name: count, dtype: int64\n",
      "--------------------------------------------------\n",
      "Column: month_grouped\n",
      "month_grouped\n",
      "November     164\n",
      "October      149\n",
      "August       116\n",
      "September    112\n",
      "July          74\n",
      "March         72\n",
      "May           64\n",
      "February      62\n",
      "January       62\n",
      "June          57\n",
      "April         56\n",
      "December      40\n",
      "Name: count, dtype: int64\n",
      "--------------------------------------------------\n"
     ]
    }
   ],
   "source": [
    "# Create a summary of all the categories in each object column\n",
    "category_columns = df.select_dtypes(include=['category'])\n",
    "\n",
    "for col in category_columns.columns:\n",
    "    print(f\"Column: {col}\")\n",
    "    print(df[col].value_counts())\n",
    "    print(\"-\" * 50)"
   ]
  },
  {
   "cell_type": "markdown",
   "id": "2c25d399-b38f-4ff9-8e3f-a52041f77559",
   "metadata": {
    "jp-MarkdownHeadingCollapsed": true
   },
   "source": [
    "### Screening counts"
   ]
  },
  {
   "cell_type": "code",
   "execution_count": 35,
   "id": "e50b1f6c-e342-4c4f-a9d6-d7a556612ae5",
   "metadata": {},
   "outputs": [
    {
     "name": "stdout",
     "output_type": "stream",
     "text": [
      "Total patients invited to be screened: 1028\n",
      "Total agreed to participate: 946\n",
      "Percentage agreed: 92.0%\n"
     ]
    }
   ],
   "source": [
    "# Calculate Total Screening Counts for the Trauma Department\n",
    "# Patients Invited (#)\n",
    "patients_invited = df.shape[0]  # Total rows in the subset\n",
    "\n",
    "# Agreed to Participate (#)\n",
    "agreed_to_participate = (df['consent'] == 'yes').sum()\n",
    "\n",
    "# Percentage Agreed (%)\n",
    "percentage_agreed = (agreed_to_participate / patients_invited * 100).round(0) if patients_invited > 0 else 0\n",
    "\n",
    "# Display the results\n",
    "print(f\"Total patients invited to be screened: {patients_invited}\")\n",
    "print(f\"Total agreed to participate: {agreed_to_participate}\")\n",
    "print(f\"Percentage agreed: {percentage_agreed}%\")"
   ]
  },
  {
   "cell_type": "markdown",
   "id": "99c4e783-a656-4192-9b81-1d7dea0fbf9b",
   "metadata": {
    "jp-MarkdownHeadingCollapsed": true
   },
   "source": [
    "### Screening days"
   ]
  },
  {
   "cell_type": "code",
   "execution_count": 59,
   "id": "660f9d2c-3437-47a9-a55a-b6d309307937",
   "metadata": {},
   "outputs": [
    {
     "name": "stdout",
     "output_type": "stream",
     "text": [
      "Number of days that screenings took place: 253\n",
      "Average number of screenings per day: 4\n",
      "The screening in the trauma department started on 2023-08-16 00:00:00\n"
     ]
    }
   ],
   "source": [
    "# Number of Days that screening took place\n",
    "days = df_agree['date_only'].nunique()\n",
    "average = int(round(df_agree.shape[0] / days, 0))\n",
    "min = df_agree['date_only'].min()\n",
    "\n",
    "# Display the results\n",
    "print(f\"Number of days that screenings took place: {days}\")\n",
    "print(f\"Average number of screenings per day: {average}\")\n",
    "print(f\"The screening in the trauma department started on {min}\")"
   ]
  },
  {
   "cell_type": "markdown",
   "id": "dda3c916-a6fe-4d01-bdc2-fcc0311c1ca7",
   "metadata": {
    "jp-MarkdownHeadingCollapsed": true
   },
   "source": [
    "### Screening outcome"
   ]
  },
  {
   "cell_type": "code",
   "execution_count": 70,
   "id": "2cb0785a-b45d-40dc-9435-7babbcceab10",
   "metadata": {},
   "outputs": [
    {
     "name": "stdout",
     "output_type": "stream",
     "text": [
      "Patients experiencing IPV: 173 (18.0%)\n",
      "Patients experiencing IPV: 773 (82.0%)\n"
     ]
    }
   ],
   "source": [
    "# Calculate IPV outcome metrics for the Trauma Department\n",
    "\n",
    "# Patients experiencing IPV (#)\n",
    "patients_experiencing_ipv = (df['ipv_outcome'] == 'pos').sum()\n",
    "\n",
    "# Patients not experiencing IPV (#)\n",
    "patients_not_experiencing_ipv = (df['ipv_outcome'] == 'neg').sum()\n",
    "\n",
    "# Total number of patients with IPV outcomes\n",
    "total_ipv_outcomes = patients_experiencing_ipv + patients_not_experiencing_ipv\n",
    "\n",
    "# Patients experiencing IPV (%)\n",
    "percent_experiencing_ipv = (\n",
    "    (patients_experiencing_ipv / total_ipv_outcomes * 100).round(0)\n",
    "    if total_ipv_outcomes > 0\n",
    "    else 0\n",
    ")\n",
    "\n",
    "# Patients not experiencing IPV (%)\n",
    "percent_not_experiencing_ipv = (\n",
    "    (patients_not_experiencing_ipv / total_ipv_outcomes * 100).round(0)\n",
    "    if total_ipv_outcomes > 0\n",
    "    else 0\n",
    ")\n",
    "\n",
    "# Display the results\n",
    "print(f\"Patients experiencing IPV: {patients_experiencing_ipv} ({percent_experiencing_ipv}%)\")\n",
    "print(f\"Patients experiencing IPV: {patients_not_experiencing_ipv} ({percent_not_experiencing_ipv}%)\")"
   ]
  },
  {
   "cell_type": "markdown",
   "id": "4f4938ee-ddc8-45e5-b723-6d8add00302d",
   "metadata": {
    "jp-MarkdownHeadingCollapsed": true
   },
   "source": [
    "### IPV score"
   ]
  },
  {
   "cell_type": "code",
   "execution_count": 88,
   "id": "d48920b5-5c44-41a5-b98a-c180bf7474f3",
   "metadata": {},
   "outputs": [
    {
     "data": {
      "text/plain": [
       "ipv_score\n",
       "4.0    0.35\n",
       "1.0    0.28\n",
       "3.0    0.23\n",
       "2.0    0.15\n",
       "Name: proportion, dtype: float64"
      ]
     },
     "execution_count": 88,
     "metadata": {},
     "output_type": "execute_result"
    }
   ],
   "source": [
    "count = df_pos['ipv_score'].value_counts(normalize=True).round(2)\n",
    "count"
   ]
  },
  {
   "cell_type": "code",
   "execution_count": 75,
   "id": "1998664a-e7ea-454c-9c32-29e60f217940",
   "metadata": {},
   "outputs": [
    {
     "data": {
      "text/plain": [
       "2.64"
      ]
     },
     "execution_count": 75,
     "metadata": {},
     "output_type": "execute_result"
    }
   ],
   "source": [
    "df_pos = df[df['ipv_outcome'] == 'pos']\n",
    "\n",
    "mean = df_pos['ipv_score'].mean().round(2)\n",
    "\n",
    "mean"
   ]
  },
  {
   "cell_type": "code",
   "execution_count": 95,
   "id": "eabc753e-f155-4952-aed8-59c9594bc029",
   "metadata": {},
   "outputs": [
    {
     "data": {
      "image/png": "[encoded data removed]",
      "text/plain": [
       "<Figure size 800x300 with 1 Axes>"
      ]
     },
     "metadata": {},
     "output_type": "display_data"
    }
   ],
   "source": [
    "# Load\n",
    "Afriad = df_agree[df_agree['afraid_of_partner'] == 'yes']\n",
    "Hurt = df_agree[df_agree['last_year_partner_hurt_you'] == 'yes']\n",
    "Controlled = df_agree[df_agree['last_year_partner_control_you'] == 'yes']\n",
    "Threatened = df_agree[df_agree['last_year_threatened_you'] == 'yes']\n",
    "\n",
    "indicators = ['Afraid', 'Threatened', 'Hurt', 'Controlled']\n",
    "counts = [\n",
    "    Afriad.shape[0], \n",
    "    Threatened.shape[0], \n",
    "    Hurt.shape[0], \n",
    "    Controlled.shape[0]\n",
    "]\n",
    "\n",
    "# Create\n",
    "fig, ax = plt.subplots(figsize=(8, 3))\n",
    "ax.barh(indicators, counts, color='#F8756C')\n",
    "\n",
    "# Annotate\n",
    "for i, count in enumerate(counts):\n",
    "    ax.text(count + 5, i, str(count), va='center', ha='left', fontsize=10, fontweight='bold', color='black')\n",
    "\n",
    "# Customize\n",
    "ax.set_xticklabels('')\n",
    "ax.set_xlabel('')\n",
    "ax.set_title('Count of \"yes\" responses to each IPV indicator', fontsize=14, fontweight='bold', x=0.20)\n",
    "ax.grid(False)\n",
    "sns.despine(left=True, bottom=True)\n",
    "\n",
    "# Save\n",
    "plt.tight_layout()\n",
    "plt.savefig(figures_path + 'ipv_count_trauma.png', dpi=300, bbox_inches='tight')\n",
    "plt.show()"
   ]
  },
  {
   "cell_type": "markdown",
   "id": "93ac4f42-4eb0-455d-b62a-63927b349a26",
   "metadata": {
    "jp-MarkdownHeadingCollapsed": true
   },
   "source": [
    "### Next steps"
   ]
  },
  {
   "cell_type": "code",
   "execution_count": 106,
   "id": "77c9e967-4bb6-42b5-83c2-43bb1b663a3d",
   "metadata": {},
   "outputs": [
    {
     "name": "stdout",
     "output_type": "stream",
     "text": [
      "Help with this now: 153 (64.0%)\n",
      "Refer me to counsellor: 154 (65.0%)\n",
      "Acceptedinformationcard: 154 (100.0%)\n",
      "Acceptedbrochure: 400 (42.0%)\n",
      "Visitstakeholder: 20 (2.0%)\n"
     ]
    }
   ],
   "source": [
    "# List of indicators to analyze\n",
    "indicators = ['help_with_this_now', 'refer_me_to_counsellor', 'acceptedInformationCard', 'acceptedBrochure', 'visitStakeholder']\n",
    "\n",
    "# Loop through each indicator and print the results\n",
    "for indicator in indicators:\n",
    "    # Count the number of 'yes' responses\n",
    "    yes_count = (df[indicator] == 'yes').sum()\n",
    "    \n",
    "    # Calculate the percentage of 'yes' responses\n",
    "    total_responses = df[indicator].notna().sum()  # Exclude missing values\n",
    "    yes_percent = (yes_count / total_responses * 100).round(0) if total_responses > 0 else 0\n",
    "    \n",
    "    # Print the results\n",
    "    print(f\"{indicator.replace('_', ' ').capitalize()}: {yes_count} ({yes_percent}%)\")"
   ]
  },
  {
   "cell_type": "code",
   "execution_count": 114,
   "id": "39ea3682-ced8-4e27-ab05-83c26753f15e",
   "metadata": {},
   "outputs": [
    {
     "name": "stdout",
     "output_type": "stream",
     "text": [
      "+----+-------------------------------------------+---------+\n",
      "|    | Stakeholder                               |   Count |\n",
      "+====+===========================================+=========+\n",
      "|  0 | SAPS                                      |      18 |\n",
      "+----+-------------------------------------------+---------+\n",
      "|  1 | MOSAIC                                    |      14 |\n",
      "+----+-------------------------------------------+---------+\n",
      "|  2 | National Shelter Movement of South Africa |       6 |\n",
      "+----+-------------------------------------------+---------+\n",
      "|  3 | Saartie Baartman                          |       4 |\n",
      "+----+-------------------------------------------+---------+\n",
      "|  4 | DSD                                       |       3 |\n",
      "+----+-------------------------------------------+---------+\n",
      "|  5 | Ilitha Labantu                            |       2 |\n",
      "+----+-------------------------------------------+---------+\n",
      "|  6 | DSD_Vredenberg                            |       1 |\n",
      "+----+-------------------------------------------+---------+\n",
      "|  7 | Philisa Abafazi Bethu (Shelter)           |       1 |\n",
      "+----+-------------------------------------------+---------+\n",
      "|  8 | FAMSA_Observatory                         |       1 |\n",
      "+----+-------------------------------------------+---------+\n"
     ]
    }
   ],
   "source": [
    "# Combine both columns into one for counting purposes\n",
    "stakeholders_combined = pd.concat([\n",
    "    df['stakeholderReference'].dropna(),\n",
    "    df['stakeholderReference02'].dropna()\n",
    "])\n",
    "\n",
    "# Split entries with multiple stakeholders (assuming they're separated by commas)\n",
    "stakeholders_split = stakeholders_combined.str.split(',').explode().str.strip()\n",
    "\n",
    "# Count appearances of each unique stakeholder\n",
    "stakeholder_counts = stakeholders_split.value_counts().reset_index()\n",
    "stakeholder_counts.columns = ['Stakeholder', 'Count']\n",
    "\n",
    "\n",
    "from tabulate import tabulate\n",
    "# Print the result in a tabular format for easy copy-paste into Excel\n",
    "print(tabulate(stakeholder_counts, headers=['Stakeholder', 'Count'], tablefmt='grid'))"
   ]
  },
  {
   "cell_type": "code",
   "execution_count": 117,
   "id": "0315167c-a696-4b8a-8d58-2f24eeac6c91",
   "metadata": {},
   "outputs": [
    {
     "name": "stdout",
     "output_type": "stream",
     "text": [
      "+----+---------------------+---------+\n",
      "|    | Reason              |   Count |\n",
      "+====+=====================+=========+\n",
      "|  0 | Legal services      |      20 |\n",
      "+----+---------------------+---------+\n",
      "|  1 | Police services     |      14 |\n",
      "+----+---------------------+---------+\n",
      "|  2 | Further counselling |       8 |\n",
      "+----+---------------------+---------+\n",
      "|  3 | Shelter needed      |       8 |\n",
      "+----+---------------------+---------+\n"
     ]
    }
   ],
   "source": [
    "# Combine both columns into one for counting purposes\n",
    "stakeholders_combined = pd.concat([\n",
    "    df['stakeholderReferralReason'].dropna(),\n",
    "    df['stakeholderReferralReason02'].dropna()\n",
    "])\n",
    "\n",
    "# Split entries with multiple stakeholders (assuming they're separated by commas)\n",
    "stakeholders_split = stakeholders_combined.str.split(',').explode().str.strip()\n",
    "\n",
    "# Count appearances of each unique stakeholder\n",
    "stakeholder_counts = stakeholders_split.value_counts().reset_index()\n",
    "stakeholder_counts.columns = ['Reason', 'Count']\n",
    "\n",
    "\n",
    "from tabulate import tabulate\n",
    "# Print the result in a tabular format for easy copy-paste into Excel\n",
    "print(tabulate(stakeholder_counts, headers=['Reason', 'Count'], tablefmt='grid'))"
   ]
  }
 ],
 "metadata": {
  "kernelspec": {
   "display_name": "Python 3 (ipykernel)",
   "language": "python",
   "name": "python3"
  },
  "language_info": {
   "codemirror_mode": {
    "name": "ipython",
    "version": 3
   },
   "file_extension": ".py",
   "mimetype": "text/x-python",
   "name": "python",
   "nbconvert_exporter": "python",
   "pygments_lexer": "ipython3",
   "version": "3.11.7"
  }
 },
 "nbformat": 4,
 "nbformat_minor": 5
}
