{
 "cells": [
  {
   "cell_type": "code",
   "execution_count": 16,
   "id": "b908ac55-b3ba-459a-9153-d850b55218cc",
   "metadata": {},
   "outputs": [],
   "source": [
    "import pandas as pd\n",
    "import numpy as np\n",
    "import matplotlib.pyplot as plt"
   ]
  },
  {
   "cell_type": "code",
   "execution_count": 29,
   "id": "d1764755-9243-491f-9c3a-e1cb32d3f8cb",
   "metadata": {},
   "outputs": [],
   "source": [
    "raw = pd.read_excel(\"/Users/nataschajademinnitt/Documents/5. Learning/Distribution of Things/distributionofthings.analysis/good_reads/data/goodreadsdata.xlsx\")"
   ]
  },
  {
   "cell_type": "code",
   "execution_count": 36,
   "id": "a74bdb0c-a00a-4c8e-9d75-b7bd70c8b5a3",
   "metadata": {},
   "outputs": [
    {
     "data": {
      "text/plain": [
       "bookID                         int64\n",
       "title                         object\n",
       "authors                       object\n",
       "average_rating               float64\n",
       "isbn                          object\n",
       "isbn13                       float64\n",
       "language_code                 object\n",
       "  num_pages                  float64\n",
       "ratings_count                  int64\n",
       "text_reviews_count             int64\n",
       "publication_date      datetime64[ns]\n",
       "publisher                     object\n",
       "dtype: object"
      ]
     },
     "execution_count": 36,
     "metadata": {},
     "output_type": "execute_result"
    }
   ],
   "source": [
    "books = "
   ]
  },
  {
   "cell_type": "code",
   "execution_count": null,
   "id": "8403c871-cf2d-4082-8aad-c4acd34777f8",
   "metadata": {},
   "outputs": [],
   "source": []
  }
 ],
 "metadata": {
  "kernelspec": {
   "display_name": "Python 3 (ipykernel)",
   "language": "python",
   "name": "python3"
  },
  "language_info": {
   "codemirror_mode": {
    "name": "ipython",
    "version": 3
   },
   "file_extension": ".py",
   "mimetype": "text/x-python",
   "name": "python",
   "nbconvert_exporter": "python",
   "pygments_lexer": "ipython3",
   "version": "3.11.7"
  }
 },
 "nbformat": 4,
 "nbformat_minor": 5
}
