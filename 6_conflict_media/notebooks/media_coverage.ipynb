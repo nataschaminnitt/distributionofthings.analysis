{
 "cells": [
  {
   "cell_type": "code",
   "execution_count": 2,
   "id": "2f6acede-0742-4473-aa36-1c9eb1c2d386",
   "metadata": {},
   "outputs": [],
   "source": [
    "# Import libraries\n",
    "import pandas as pd\n",
    "import numpy as np\n",
    "import matplotlib.pyplot as plt\n",
    "import seaborn as sns"
   ]
  },
  {
   "cell_type": "code",
   "execution_count": 19,
   "id": "3e75742a-7817-4674-a5c0-138b8747b894",
   "metadata": {},
   "outputs": [
    {
     "data": {
      "text/html": [
       "<div>\n",
       "<style scoped>\n",
       "    .dataframe tbody tr th:only-of-type {\n",
       "        vertical-align: middle;\n",
       "    }\n",
       "\n",
       "    .dataframe tbody tr th {\n",
       "        vertical-align: top;\n",
       "    }\n",
       "\n",
       "    .dataframe thead th {\n",
       "        text-align: right;\n",
       "    }\n",
       "</style>\n",
       "<table border=\"1\" class=\"dataframe\">\n",
       "  <thead>\n",
       "    <tr style=\"text-align: right;\">\n",
       "      <th></th>\n",
       "      <th>Rank</th>\n",
       "      <th>Country</th>\n",
       "      <th># of Civilian Casualties</th>\n",
       "      <th># of Articles</th>\n",
       "      <th>Conflict Media Coverage Index</th>\n",
       "    </tr>\n",
       "  </thead>\n",
       "  <tbody>\n",
       "    <tr>\n",
       "      <th>0</th>\n",
       "      <td>1</td>\n",
       "      <td>Burkina Faso</td>\n",
       "      <td>20659</td>\n",
       "      <td>13127</td>\n",
       "      <td>0</td>\n",
       "    </tr>\n",
       "    <tr>\n",
       "      <th>1</th>\n",
       "      <td>2</td>\n",
       "      <td>Ethiopia</td>\n",
       "      <td>22529</td>\n",
       "      <td>16103</td>\n",
       "      <td>0</td>\n",
       "    </tr>\n",
       "    <tr>\n",
       "      <th>2</th>\n",
       "      <td>3</td>\n",
       "      <td>Mali</td>\n",
       "      <td>19818</td>\n",
       "      <td>19525</td>\n",
       "      <td>2</td>\n",
       "    </tr>\n",
       "    <tr>\n",
       "      <th>3</th>\n",
       "      <td>4</td>\n",
       "      <td>Cameroon</td>\n",
       "      <td>3362</td>\n",
       "      <td>6496</td>\n",
       "      <td>6</td>\n",
       "    </tr>\n",
       "    <tr>\n",
       "      <th>4</th>\n",
       "      <td>5</td>\n",
       "      <td>Haiti</td>\n",
       "      <td>5546</td>\n",
       "      <td>14924</td>\n",
       "      <td>8</td>\n",
       "    </tr>\n",
       "  </tbody>\n",
       "</table>\n",
       "</div>"
      ],
      "text/plain": [
       "   Rank       Country  # of Civilian Casualties  # of Articles  \\\n",
       "0     1  Burkina Faso                     20659          13127   \n",
       "1     2      Ethiopia                     22529          16103   \n",
       "2     3          Mali                     19818          19525   \n",
       "3     4      Cameroon                      3362           6496   \n",
       "4     5         Haiti                      5546          14924   \n",
       "\n",
       "   Conflict Media Coverage Index  \n",
       "0                              0  \n",
       "1                              0  \n",
       "2                              2  \n",
       "3                              6  \n",
       "4                              8  "
      ]
     },
     "execution_count": 19,
     "metadata": {},
     "output_type": "execute_result"
    }
   ],
   "source": [
    "# Create a file path\n",
    "data_path = '/Users/nataschajademinnitt/Documents/5. Data Analysis/Distribution of Things/distributionofthings.analysis/6_conflict_media/data'\n",
    "figure_path = '/Users/nataschajademinnitt/Documents/5. Data Analysis/Distribution of Things/distributionofthings.analysis/6_conflict_media/figures'\n",
    "\n",
    "# Load data\n",
    "df = pd.read_csv(data_path + '/Conflict_Media_Coverage_Data.csv')\n",
    "df.head()"
   ]
  },
  {
   "cell_type": "code",
   "execution_count": 35,
   "id": "d87c34b7-d5f3-416f-a03a-41028cd69a9c",
   "metadata": {},
   "outputs": [],
   "source": [
    "df['Article-to-Casualty Ratio'] = df['# of Articles'] / df['# of Civilian Casualties']"
   ]
  },
  {
   "cell_type": "code",
   "execution_count": 37,
   "id": "6bbdb9e5-ea1f-4ed1-bc17-7c0bd92df092",
   "metadata": {},
   "outputs": [
    {
     "data": {
      "text/html": [
       "<div>\n",
       "<style scoped>\n",
       "    .dataframe tbody tr th:only-of-type {\n",
       "        vertical-align: middle;\n",
       "    }\n",
       "\n",
       "    .dataframe tbody tr th {\n",
       "        vertical-align: top;\n",
       "    }\n",
       "\n",
       "    .dataframe thead th {\n",
       "        text-align: right;\n",
       "    }\n",
       "</style>\n",
       "<table border=\"1\" class=\"dataframe\">\n",
       "  <thead>\n",
       "    <tr style=\"text-align: right;\">\n",
       "      <th></th>\n",
       "      <th>Rank</th>\n",
       "      <th>Country</th>\n",
       "      <th># of Civilian Casualties</th>\n",
       "      <th># of Articles</th>\n",
       "      <th>Conflict Media Coverage Index</th>\n",
       "      <th>Article-to-Casualty Ratio</th>\n",
       "    </tr>\n",
       "  </thead>\n",
       "  <tbody>\n",
       "    <tr>\n",
       "      <th>0</th>\n",
       "      <td>1</td>\n",
       "      <td>Burkina Faso</td>\n",
       "      <td>20659</td>\n",
       "      <td>13127</td>\n",
       "      <td>0</td>\n",
       "      <td>0.635413</td>\n",
       "    </tr>\n",
       "    <tr>\n",
       "      <th>1</th>\n",
       "      <td>2</td>\n",
       "      <td>Ethiopia</td>\n",
       "      <td>22529</td>\n",
       "      <td>16103</td>\n",
       "      <td>0</td>\n",
       "      <td>0.714768</td>\n",
       "    </tr>\n",
       "    <tr>\n",
       "      <th>2</th>\n",
       "      <td>3</td>\n",
       "      <td>Mali</td>\n",
       "      <td>19818</td>\n",
       "      <td>19525</td>\n",
       "      <td>2</td>\n",
       "      <td>0.985215</td>\n",
       "    </tr>\n",
       "    <tr>\n",
       "      <th>3</th>\n",
       "      <td>4</td>\n",
       "      <td>Cameroon</td>\n",
       "      <td>3362</td>\n",
       "      <td>6496</td>\n",
       "      <td>6</td>\n",
       "      <td>1.932183</td>\n",
       "    </tr>\n",
       "    <tr>\n",
       "      <th>4</th>\n",
       "      <td>5</td>\n",
       "      <td>Haiti</td>\n",
       "      <td>5546</td>\n",
       "      <td>14924</td>\n",
       "      <td>8</td>\n",
       "      <td>2.690948</td>\n",
       "    </tr>\n",
       "  </tbody>\n",
       "</table>\n",
       "</div>"
      ],
      "text/plain": [
       "   Rank       Country  # of Civilian Casualties  # of Articles  \\\n",
       "0     1  Burkina Faso                     20659          13127   \n",
       "1     2      Ethiopia                     22529          16103   \n",
       "2     3          Mali                     19818          19525   \n",
       "3     4      Cameroon                      3362           6496   \n",
       "4     5         Haiti                      5546          14924   \n",
       "\n",
       "   Conflict Media Coverage Index  Article-to-Casualty Ratio  \n",
       "0                              0                   0.635413  \n",
       "1                              0                   0.714768  \n",
       "2                              2                   0.985215  \n",
       "3                              6                   1.932183  \n",
       "4                              8                   2.690948  "
      ]
     },
     "execution_count": 37,
     "metadata": {},
     "output_type": "execute_result"
    }
   ],
   "source": [
    "df.head()"
   ]
  },
  {
   "cell_type": "code",
   "execution_count": 68,
   "id": "7d39be8f-232a-4ad8-96dd-d134a6a3cb3e",
   "metadata": {},
   "outputs": [
    {
     "ename": "AttributeError",
     "evalue": "module 'matplotlib.pyplot' has no attribute 'lineplot'",
     "output_type": "error",
     "traceback": [
      "\u001b[0;31m---------------------------------------------------------------------------\u001b[0m",
      "\u001b[0;31mAttributeError\u001b[0m                            Traceback (most recent call last)",
      "Cell \u001b[0;32mIn[68], line 5\u001b[0m\n\u001b[1;32m      3\u001b[0m \u001b[38;5;66;03m# Create the scatter plot with suggested axes\u001b[39;00m\n\u001b[1;32m      4\u001b[0m plt\u001b[38;5;241m.\u001b[39mfigure(figsize\u001b[38;5;241m=\u001b[39m(\u001b[38;5;241m12\u001b[39m, \u001b[38;5;241m8\u001b[39m))\n\u001b[0;32m----> 5\u001b[0m scatter \u001b[38;5;241m=\u001b[39m plt\u001b[38;5;241m.\u001b[39mlineplot(\n\u001b[1;32m      6\u001b[0m     df[\u001b[38;5;124m'\u001b[39m\u001b[38;5;124mConflict Media Coverage Index\u001b[39m\u001b[38;5;124m'\u001b[39m], \n\u001b[1;32m      7\u001b[0m     df[\u001b[38;5;124m'\u001b[39m\u001b[38;5;124m# of Civilian Casualties\u001b[39m\u001b[38;5;124m'\u001b[39m], \n\u001b[1;32m      8\u001b[0m     s\u001b[38;5;241m=\u001b[39mdf[\u001b[38;5;124m'\u001b[39m\u001b[38;5;124m# of Articles\u001b[39m\u001b[38;5;124m'\u001b[39m] \u001b[38;5;241m*\u001b[39m \u001b[38;5;241m0.1\u001b[39m,  \u001b[38;5;66;03m# Scale bubble size for better visualization\u001b[39;00m\n\u001b[1;32m      9\u001b[0m     alpha\u001b[38;5;241m=\u001b[39m\u001b[38;5;241m0.6\u001b[39m, \n\u001b[1;32m     10\u001b[0m     c\u001b[38;5;241m=\u001b[39mdf[\u001b[38;5;124m'\u001b[39m\u001b[38;5;124m# of Civilian Casualties\u001b[39m\u001b[38;5;124m'\u001b[39m],  \u001b[38;5;66;03m# Color intensity based on casualties\u001b[39;00m\n\u001b[1;32m     11\u001b[0m     cmap\u001b[38;5;241m=\u001b[39m\u001b[38;5;124m'\u001b[39m\u001b[38;5;124mviridis\u001b[39m\u001b[38;5;124m'\u001b[39m, \n\u001b[1;32m     12\u001b[0m     edgecolors\u001b[38;5;241m=\u001b[39m\u001b[38;5;124m'\u001b[39m\u001b[38;5;124mw\u001b[39m\u001b[38;5;124m'\u001b[39m, \n\u001b[1;32m     13\u001b[0m     linewidth\u001b[38;5;241m=\u001b[39m\u001b[38;5;241m0.5\u001b[39m\n\u001b[1;32m     14\u001b[0m )\n\u001b[1;32m     16\u001b[0m \u001b[38;5;66;03m# Add titles and labels\u001b[39;00m\n\u001b[1;32m     17\u001b[0m plt\u001b[38;5;241m.\u001b[39mtitle(\u001b[38;5;124m'\u001b[39m\u001b[38;5;124mMedia Coverage Index vs. Civilian Casualties\u001b[39m\u001b[38;5;124m'\u001b[39m)\n",
      "\u001b[0;31mAttributeError\u001b[0m: module 'matplotlib.pyplot' has no attribute 'lineplot'"
     ]
    },
    {
     "data": {
      "text/plain": [
       "<Figure size 1200x800 with 0 Axes>"
      ]
     },
     "metadata": {},
     "output_type": "display_data"
    }
   ],
   "source": [
    "import matplotlib.pyplot as plt\n",
    "\n",
    "# Create the scatter plot with suggested axes\n",
    "plt.figure(figsize=(12, 8))\n",
    "scatter = plt.lineplot(\n",
    "    df['Conflict Media Coverage Index'], \n",
    "    df['# of Civilian Casualties'], \n",
    "    s=df['# of Articles'] * 0.1,  # Scale bubble size for better visualization\n",
    "    alpha=0.6, \n",
    "    c=df['# of Civilian Casualties'],  # Color intensity based on casualties\n",
    "    cmap='viridis', \n",
    "    edgecolors='w', \n",
    "    linewidth=0.5\n",
    ")\n",
    "\n",
    "# Add titles and labels\n",
    "plt.title('Media Coverage Index vs. Civilian Casualties')\n",
    "plt.xlabel('Conflict Media Coverage Index (0-100)')\n",
    "plt.ylabel('Number of Civilian Casualties')\n",
    "plt.colorbar(scatter, label='Number of Civilian Casualties')\n",
    "plt.grid(True)\n",
    "\n",
    "# Show plot\n",
    "plt.show()"
   ]
  },
  {
   "cell_type": "code",
   "execution_count": null,
   "id": "2dd489f1-110a-466d-88ea-f18a1991b542",
   "metadata": {},
   "outputs": [],
   "source": []
  }
 ],
 "metadata": {
  "kernelspec": {
   "display_name": "Python 3 (ipykernel)",
   "language": "python",
   "name": "python3"
  },
  "language_info": {
   "codemirror_mode": {
    "name": "ipython",
    "version": 3
   },
   "file_extension": ".py",
   "mimetype": "text/x-python",
   "name": "python",
   "nbconvert_exporter": "python",
   "pygments_lexer": "ipython3",
   "version": "3.11.7"
  }
 },
 "nbformat": 4,
 "nbformat_minor": 5
}
