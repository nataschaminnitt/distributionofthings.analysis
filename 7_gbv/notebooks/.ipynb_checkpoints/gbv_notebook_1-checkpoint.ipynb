{
 "cells": [
  {
   "cell_type": "markdown",
   "id": "4177f4a2-5723-42fc-95ef-1c8851ab4a98",
   "metadata": {},
   "source": [
    "# 16 days of activism against GBV"
   ]
  },
  {
   "cell_type": "markdown",
   "id": "d1d3b64d-5fbf-4364-b24e-efd0b3ae366d",
   "metadata": {},
   "source": [
    "Data sources: https://genderdata.worldbank.org/en/topics/violence"
   ]
  },
  {
   "cell_type": "markdown",
   "id": "5916a0f4-d095-4d0c-b689-2987a734d566",
   "metadata": {},
   "source": [
    "## I. Load libraries and data"
   ]
  },
  {
   "cell_type": "code",
   "execution_count": 5,
   "id": "e0a8bffe-b9e7-4548-8dd5-a95710a5af32",
   "metadata": {},
   "outputs": [],
   "source": [
    "# Import libraries\n",
    "import pandas as pd\n",
    "import numpy as np\n",
    "import matplotlib.pyplot as plt\n",
    "import seaborn as sns"
   ]
  },
  {
   "cell_type": "code",
   "execution_count": 7,
   "id": "dd3d0777-4a0d-4fa3-a254-58e44e1d2d30",
   "metadata": {},
   "outputs": [
    {
     "data": {
      "text/html": [
       "<div>\n",
       "<style scoped>\n",
       "    .dataframe tbody tr th:only-of-type {\n",
       "        vertical-align: middle;\n",
       "    }\n",
       "\n",
       "    .dataframe tbody tr th {\n",
       "        vertical-align: top;\n",
       "    }\n",
       "\n",
       "    .dataframe thead th {\n",
       "        text-align: right;\n",
       "    }\n",
       "</style>\n",
       "<table border=\"1\" class=\"dataframe\">\n",
       "  <thead>\n",
       "    <tr style=\"text-align: right;\">\n",
       "      <th></th>\n",
       "      <th>Indicator Name</th>\n",
       "      <th>Indicator Code</th>\n",
       "      <th>Country Name</th>\n",
       "      <th>Country Code</th>\n",
       "      <th>Year</th>\n",
       "      <th>Value</th>\n",
       "    </tr>\n",
       "  </thead>\n",
       "  <tbody>\n",
       "    <tr>\n",
       "      <th>0</th>\n",
       "      <td>Proportion of women subjected to physical and/...</td>\n",
       "      <td>SG.VAW.15PL.ME.ZS</td>\n",
       "      <td>East Asia &amp; Pacific</td>\n",
       "      <td>EAS</td>\n",
       "      <td>2018</td>\n",
       "      <td>6.195</td>\n",
       "    </tr>\n",
       "    <tr>\n",
       "      <th>1</th>\n",
       "      <td>Proportion of women subjected to physical and/...</td>\n",
       "      <td>SG.VAW.15PL.ME.ZS</td>\n",
       "      <td>Europe &amp; Central Asia</td>\n",
       "      <td>ECS</td>\n",
       "      <td>2018</td>\n",
       "      <td>4.813</td>\n",
       "    </tr>\n",
       "    <tr>\n",
       "      <th>2</th>\n",
       "      <td>Proportion of women subjected to physical and/...</td>\n",
       "      <td>SG.VAW.15PL.ME.ZS</td>\n",
       "      <td>High income</td>\n",
       "      <td>HIC</td>\n",
       "      <td>2018</td>\n",
       "      <td>4.142</td>\n",
       "    </tr>\n",
       "    <tr>\n",
       "      <th>3</th>\n",
       "      <td>Proportion of women subjected to physical and/...</td>\n",
       "      <td>SG.VAW.15PL.ME.ZS</td>\n",
       "      <td>Latin America &amp; Caribbean</td>\n",
       "      <td>LCN</td>\n",
       "      <td>2018</td>\n",
       "      <td>6.955</td>\n",
       "    </tr>\n",
       "    <tr>\n",
       "      <th>4</th>\n",
       "      <td>Proportion of women subjected to physical and/...</td>\n",
       "      <td>SG.VAW.15PL.ME.ZS</td>\n",
       "      <td>Low income</td>\n",
       "      <td>LIC</td>\n",
       "      <td>2018</td>\n",
       "      <td>20.062</td>\n",
       "    </tr>\n",
       "  </tbody>\n",
       "</table>\n",
       "</div>"
      ],
      "text/plain": [
       "                                      Indicator Name     Indicator Code  \\\n",
       "0  Proportion of women subjected to physical and/...  SG.VAW.15PL.ME.ZS   \n",
       "1  Proportion of women subjected to physical and/...  SG.VAW.15PL.ME.ZS   \n",
       "2  Proportion of women subjected to physical and/...  SG.VAW.15PL.ME.ZS   \n",
       "3  Proportion of women subjected to physical and/...  SG.VAW.15PL.ME.ZS   \n",
       "4  Proportion of women subjected to physical and/...  SG.VAW.15PL.ME.ZS   \n",
       "\n",
       "                Country Name Country Code  Year   Value  \n",
       "0        East Asia & Pacific          EAS  2018   6.195  \n",
       "1      Europe & Central Asia          ECS  2018   4.813  \n",
       "2                High income          HIC  2018   4.142  \n",
       "3  Latin America & Caribbean          LCN  2018   6.955  \n",
       "4                 Low income          LIC  2018  20.062  "
      ]
     },
     "execution_count": 7,
     "metadata": {},
     "output_type": "execute_result"
    }
   ],
   "source": [
    "# Create a file path\n",
    "data_path = '/Users/nataschajademinnitt/Documents/5. Data Analysis/distributionofthings.analysis/7_gbv/data/'\n",
    "figure_path = '/Users/nataschajademinnitt/Documents/5. Data Analysis/distributionofthings.analysis/7_gbv/results/figures/'\n",
    "tables_path = '/Users/nataschajademinnitt/Documents/5. Data Analysis/distributionofthings.analysis/7_gbv/results/tables/'\n",
    "\n",
    "# Load data\n",
    "raw = pd.read_csv(data_path + 'violence.csv')\n",
    "raw.head()"
   ]
  },
  {
   "cell_type": "markdown",
   "id": "31659e52-c7f3-4ac2-b663-21c8b53d37d5",
   "metadata": {},
   "source": [
    "## II. Data exploration"
   ]
  },
  {
   "cell_type": "code",
   "execution_count": 35,
   "id": "2985d60b-a7f3-42c7-b60f-c8d79ccd793f",
   "metadata": {},
   "outputs": [
    {
     "name": "stdout",
     "output_type": "stream",
     "text": [
      "<class 'pandas.core.frame.DataFrame'>\n",
      "RangeIndex: 69086 entries, 0 to 69085\n",
      "Data columns (total 6 columns):\n",
      " #   Column          Non-Null Count  Dtype  \n",
      "---  ------          --------------  -----  \n",
      " 0   Indicator Name  69086 non-null  object \n",
      " 1   Indicator Code  69086 non-null  object \n",
      " 2   Country Name    69086 non-null  object \n",
      " 3   Country Code    69086 non-null  object \n",
      " 4   Year            69086 non-null  int64  \n",
      " 5   Value           69086 non-null  float64\n",
      "dtypes: float64(1), int64(1), object(4)\n",
      "memory usage: 3.2+ MB\n"
     ]
    }
   ],
   "source": [
    "raw.info()"
   ]
  },
  {
   "cell_type": "code",
   "execution_count": 129,
   "id": "26933b80-2962-4dab-870c-1953be63bd13",
   "metadata": {},
   "outputs": [],
   "source": [
    "# Subset the data for 2018\n",
    "df = raw[raw['Year'] == 2018]"
   ]
  },
  {
   "cell_type": "markdown",
   "id": "947c6dac-c309-44dc-9863-80ace9993a84",
   "metadata": {},
   "source": [
    "The country name column included groupings of countries by region or income level. Using the WB API the country name column was clean to only include country names and seprate columns were created for region and income level."
   ]
  },
  {
   "cell_type": "code",
   "execution_count": 131,
   "id": "bd766c4d-e008-4f59-beb0-dd4a36771ff1",
   "metadata": {},
   "outputs": [],
   "source": [
    "# Convert to DataFrame for easier handling\n",
    "classification = pd.read_excel(data_path + 'name_classification.xlsx', sheet_name=0)\n",
    "\n",
    "# Droping values in 'Country Name' that don't match the country list\n",
    "country_list = classification['Country'].tolist()\n",
    "df = df[df['Country Name'].isin(country_list)]\n"
   ]
  },
  {
   "cell_type": "code",
   "execution_count": 142,
   "id": "73c34793-17ee-4a93-a090-7feac2b8c679",
   "metadata": {},
   "outputs": [],
   "source": [
    "# Renaming 'Country Name' to 'Name' for merge\n",
    "df.rename(columns={'Country Name' : 'Country'}, inplace=True)\n",
    "\n",
    "# Merging dataframe to add 'region', 'income group', and 'country code'\n",
    "merged_df = df.merge(\n",
    "    classification[['Country', 'Region', 'Income group', 'Code']],\n",
    "    on='Country',\n",
    "    how='left'\n",
    ")"
   ]
  },
  {
   "cell_type": "code",
   "execution_count": 184,
   "id": "792a9671-1590-49bc-b377-516ed844f5ba",
   "metadata": {},
   "outputs": [],
   "source": [
    "indicators = merged_df['Indicator Name'].value_counts()\n",
    "indicators = pd.DataFrame(indicators)\n",
    "indicators.to_csv(data_path + 'indicators.csv', index=True)"
   ]
  },
  {
   "cell_type": "code",
   "execution_count": 109,
   "id": "0eb11be9-c082-45db-bb96-ced4497f3133",
   "metadata": {},
   "outputs": [
    {
     "data": {
      "text/html": [
       "<div>\n",
       "<style scoped>\n",
       "    .dataframe tbody tr th:only-of-type {\n",
       "        vertical-align: middle;\n",
       "    }\n",
       "\n",
       "    .dataframe tbody tr th {\n",
       "        vertical-align: top;\n",
       "    }\n",
       "\n",
       "    .dataframe thead th {\n",
       "        text-align: right;\n",
       "    }\n",
       "</style>\n",
       "<table border=\"1\" class=\"dataframe\">\n",
       "  <thead>\n",
       "    <tr style=\"text-align: right;\">\n",
       "      <th></th>\n",
       "      <th>Country</th>\n",
       "      <th>Code</th>\n",
       "      <th>Region</th>\n",
       "      <th>Income group</th>\n",
       "      <th>Lending category</th>\n",
       "    </tr>\n",
       "  </thead>\n",
       "  <tbody>\n",
       "    <tr>\n",
       "      <th>0</th>\n",
       "      <td>Afghanistan</td>\n",
       "      <td>AFG</td>\n",
       "      <td>South Asia</td>\n",
       "      <td>Low income</td>\n",
       "      <td>IDA</td>\n",
       "    </tr>\n",
       "    <tr>\n",
       "      <th>1</th>\n",
       "      <td>Albania</td>\n",
       "      <td>ALB</td>\n",
       "      <td>Europe &amp; Central Asia</td>\n",
       "      <td>Upper middle income</td>\n",
       "      <td>IBRD</td>\n",
       "    </tr>\n",
       "    <tr>\n",
       "      <th>2</th>\n",
       "      <td>Algeria</td>\n",
       "      <td>DZA</td>\n",
       "      <td>Middle East &amp; North Africa</td>\n",
       "      <td>Upper middle income</td>\n",
       "      <td>IBRD</td>\n",
       "    </tr>\n",
       "    <tr>\n",
       "      <th>3</th>\n",
       "      <td>American Samoa</td>\n",
       "      <td>ASM</td>\n",
       "      <td>East Asia &amp; Pacific</td>\n",
       "      <td>High income</td>\n",
       "      <td>NaN</td>\n",
       "    </tr>\n",
       "    <tr>\n",
       "      <th>4</th>\n",
       "      <td>Andorra</td>\n",
       "      <td>AND</td>\n",
       "      <td>Europe &amp; Central Asia</td>\n",
       "      <td>High income</td>\n",
       "      <td>NaN</td>\n",
       "    </tr>\n",
       "    <tr>\n",
       "      <th>...</th>\n",
       "      <td>...</td>\n",
       "      <td>...</td>\n",
       "      <td>...</td>\n",
       "      <td>...</td>\n",
       "      <td>...</td>\n",
       "    </tr>\n",
       "    <tr>\n",
       "      <th>213</th>\n",
       "      <td>Virgin Islands (U.S.)</td>\n",
       "      <td>VIR</td>\n",
       "      <td>Latin America &amp; Caribbean</td>\n",
       "      <td>High income</td>\n",
       "      <td>NaN</td>\n",
       "    </tr>\n",
       "    <tr>\n",
       "      <th>214</th>\n",
       "      <td>West Bank and Gaza</td>\n",
       "      <td>PSE</td>\n",
       "      <td>Middle East &amp; North Africa</td>\n",
       "      <td>Lower middle income</td>\n",
       "      <td>NaN</td>\n",
       "    </tr>\n",
       "    <tr>\n",
       "      <th>215</th>\n",
       "      <td>Yemen, Rep.</td>\n",
       "      <td>YEM</td>\n",
       "      <td>Middle East &amp; North Africa</td>\n",
       "      <td>Low income</td>\n",
       "      <td>IDA</td>\n",
       "    </tr>\n",
       "    <tr>\n",
       "      <th>216</th>\n",
       "      <td>Zambia</td>\n",
       "      <td>ZMB</td>\n",
       "      <td>Sub-Saharan Africa</td>\n",
       "      <td>Lower middle income</td>\n",
       "      <td>IDA</td>\n",
       "    </tr>\n",
       "    <tr>\n",
       "      <th>217</th>\n",
       "      <td>Zimbabwe</td>\n",
       "      <td>ZWE</td>\n",
       "      <td>Sub-Saharan Africa</td>\n",
       "      <td>Lower middle income</td>\n",
       "      <td>Blend</td>\n",
       "    </tr>\n",
       "  </tbody>\n",
       "</table>\n",
       "<p>218 rows × 5 columns</p>\n",
       "</div>"
      ],
      "text/plain": [
       "                   Country Code                      Region  \\\n",
       "0              Afghanistan  AFG                  South Asia   \n",
       "1                  Albania  ALB       Europe & Central Asia   \n",
       "2                  Algeria  DZA  Middle East & North Africa   \n",
       "3           American Samoa  ASM         East Asia & Pacific   \n",
       "4                  Andorra  AND       Europe & Central Asia   \n",
       "..                     ...  ...                         ...   \n",
       "213  Virgin Islands (U.S.)  VIR   Latin America & Caribbean   \n",
       "214     West Bank and Gaza  PSE  Middle East & North Africa   \n",
       "215            Yemen, Rep.  YEM  Middle East & North Africa   \n",
       "216                 Zambia  ZMB          Sub-Saharan Africa   \n",
       "217               Zimbabwe  ZWE          Sub-Saharan Africa   \n",
       "\n",
       "            Income group Lending category  \n",
       "0             Low income              IDA  \n",
       "1    Upper middle income             IBRD  \n",
       "2    Upper middle income             IBRD  \n",
       "3            High income              NaN  \n",
       "4            High income              NaN  \n",
       "..                   ...              ...  \n",
       "213          High income              NaN  \n",
       "214  Lower middle income              NaN  \n",
       "215           Low income              IDA  \n",
       "216  Lower middle income              IDA  \n",
       "217  Lower middle income            Blend  \n",
       "\n",
       "[218 rows x 5 columns]"
      ]
     },
     "execution_count": 109,
     "metadata": {},
     "output_type": "execute_result"
    }
   ],
   "source": [
    "classification"
   ]
  },
  {
   "cell_type": "markdown",
   "id": "6382b228-5fc5-4ccc-8435-d8ea1c4b8d00",
   "metadata": {},
   "source": [
    "### Indicators of interest\n",
    "\n"
   ]
  },
  {
   "cell_type": "code",
   "execution_count": 56,
   "id": "3132e1c0-732d-420d-a978-0ed8fd0df4f1",
   "metadata": {},
   "outputs": [
    {
     "name": "stdout",
     "output_type": "stream",
     "text": [
      "There are 114 indicators in the dataframe.\n"
     ]
    }
   ],
   "source": [
    "# Count the number of unique indicators\n",
    "print(f\"There are {df_recent['Indicator Name'].nunique()} indicators in the dataframe.\")"
   ]
  },
  {
   "cell_type": "code",
   "execution_count": 59,
   "id": "ff30e222-27cf-4be8-8126-cc95990990d1",
   "metadata": {},
   "outputs": [],
   "source": [
    "df_grouped = df_recent.groupby(['Indicator Name', 'Indicator Code', 'Country Name', 'Country Code'])"
   ]
  },
  {
   "cell_type": "code",
   "execution_count": 65,
   "id": "67a008bd-95b6-4d33-97ec-1f3c6a240e50",
   "metadata": {},
   "outputs": [
    {
     "data": {
      "text/plain": [
       "Indicator Name                                                                                                    Indicator Code     Country Name         Country Code\n",
       "Criminal penalties or civil remedies exist for sexual harassment in employment (1=yes; 0=no)                      SG.PEN.SXHR.EM     Afghanistan          AFG             [Criminal penalties or civil remedies exist fo...\n",
       "                                                                                                                                     Albania              ALB             [Criminal penalties or civil remedies exist fo...\n",
       "                                                                                                                                     Algeria              DZA             [Criminal penalties or civil remedies exist fo...\n",
       "                                                                                                                                     Angola               AGO             [Criminal penalties or civil remedies exist fo...\n",
       "                                                                                                                                     Antigua and Barbuda  ATG             [Criminal penalties or civil remedies exist fo...\n",
       "                                                                                                                                                                                                ...                        \n",
       "Women whose husband or partner has never demonstrated controlling behaviors (% of ever-married women ages 15-49)  SG.VAW.IPCB.NV.ZS  Nigeria              NGA             [Women whose husband or partner has never demo...\n",
       "                                                                                                                                     Pakistan             PAK             [Women whose husband or partner has never demo...\n",
       "                                                                                                                                     Papua New Guinea     PNG             [Women whose husband or partner has never demo...\n",
       "                                                                                                                                     Senegal              SEN             [Women whose husband or partner has never demo...\n",
       "                                                                                                                                     Zambia               ZMB             [Women whose husband or partner has never demo...\n",
       "Name: Indicator Name, Length: 3311, dtype: object"
      ]
     },
     "execution_count": 65,
     "metadata": {},
     "output_type": "execute_result"
    }
   ],
   "source": [
    "df_grouped['Indicator Name'].unique()"
   ]
  },
  {
   "cell_type": "markdown",
   "id": "89badbb6-1e8f-43ba-93e7-289175d3b7ce",
   "metadata": {},
   "source": [
    "## III. Data cleaning"
   ]
  },
  {
   "cell_type": "code",
   "execution_count": null,
   "id": "37e5e01f-6f04-44b9-8086-7852677c321a",
   "metadata": {},
   "outputs": [],
   "source": [
    "clean = raw.copy()\n",
    "\n",
    "# Missing values\n",
    "df.fillna(df.mean(), inplace=True)\n",
    "\n",
    "# Duplicates\n",
    "df.drop_duplicates(inplace=True)"
   ]
  },
  {
   "cell_type": "markdown",
   "id": "8a496914-29d7-4f77-8569-7f0f729d0342",
   "metadata": {},
   "source": [
    "## IV. Data visualisation"
   ]
  },
  {
   "cell_type": "code",
   "execution_count": null,
   "id": "ae4965a8-5306-4cd6-bc09-d34313302817",
   "metadata": {},
   "outputs": [],
   "source": []
  },
  {
   "cell_type": "markdown",
   "id": "4c6ec035-934b-4a41-b457-acfab08b3bfb",
   "metadata": {},
   "source": [
    "## V. Data analysis"
   ]
  },
  {
   "cell_type": "code",
   "execution_count": null,
   "id": "7fb5bdc2-b12c-4cef-ab0e-699d8593d622",
   "metadata": {},
   "outputs": [],
   "source": []
  }
 ],
 "metadata": {
  "kernelspec": {
   "display_name": "Python 3 (ipykernel)",
   "language": "python",
   "name": "python3"
  },
  "language_info": {
   "codemirror_mode": {
    "name": "ipython",
    "version": 3
   },
   "file_extension": ".py",
   "mimetype": "text/x-python",
   "name": "python",
   "nbconvert_exporter": "python",
   "pygments_lexer": "ipython3",
   "version": "3.11.7"
  }
 },
 "nbformat": 4,
 "nbformat_minor": 5
}
