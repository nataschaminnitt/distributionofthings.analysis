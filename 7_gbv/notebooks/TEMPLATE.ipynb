{
 "cells": [
  {
   "cell_type": "markdown",
   "id": "4177f4a2-5723-42fc-95ef-1c8851ab4a98",
   "metadata": {},
   "source": [
    "# 16 days of activism against GBV"
   ]
  },
  {
   "cell_type": "markdown",
   "id": "d1d3b64d-5fbf-4364-b24e-efd0b3ae366d",
   "metadata": {},
   "source": [
    "Data sources: https://genderdata.worldbank.org/en/topics/violence"
   ]
  },
  {
   "cell_type": "markdown",
   "id": "5916a0f4-d095-4d0c-b689-2987a734d566",
   "metadata": {},
   "source": [
    "## I. Load libraries and data"
   ]
  },
  {
   "cell_type": "code",
   "execution_count": 5,
   "id": "e0a8bffe-b9e7-4548-8dd5-a95710a5af32",
   "metadata": {},
   "outputs": [],
   "source": [
    "# Import libraries\n",
    "import pandas as pd\n",
    "import numpy as np\n",
    "import matplotlib.pyplot as plt\n",
    "import seaborn as sns"
   ]
  },
  {
   "cell_type": "code",
   "execution_count": 7,
   "id": "dd3d0777-4a0d-4fa3-a254-58e44e1d2d30",
   "metadata": {},
   "outputs": [
    {
     "data": {
      "text/html": [
       "<div>\n",
       "<style scoped>\n",
       "    .dataframe tbody tr th:only-of-type {\n",
       "        vertical-align: middle;\n",
       "    }\n",
       "\n",
       "    .dataframe tbody tr th {\n",
       "        vertical-align: top;\n",
       "    }\n",
       "\n",
       "    .dataframe thead th {\n",
       "        text-align: right;\n",
       "    }\n",
       "</style>\n",
       "<table border=\"1\" class=\"dataframe\">\n",
       "  <thead>\n",
       "    <tr style=\"text-align: right;\">\n",
       "      <th></th>\n",
       "      <th>Indicator Name</th>\n",
       "      <th>Indicator Code</th>\n",
       "      <th>Country Name</th>\n",
       "      <th>Country Code</th>\n",
       "      <th>Year</th>\n",
       "      <th>Value</th>\n",
       "    </tr>\n",
       "  </thead>\n",
       "  <tbody>\n",
       "    <tr>\n",
       "      <th>0</th>\n",
       "      <td>No account because of insufficient funds (% wi...</td>\n",
       "      <td>fin11f.s</td>\n",
       "      <td>East Asia &amp; Pacific (excluding high income)</td>\n",
       "      <td>EAP</td>\n",
       "      <td>2021</td>\n",
       "      <td>65.22</td>\n",
       "    </tr>\n",
       "    <tr>\n",
       "      <th>1</th>\n",
       "      <td>No account because of insufficient funds (% wi...</td>\n",
       "      <td>fin11f.s</td>\n",
       "      <td>Europe &amp; Central Asia (excluding high income)</td>\n",
       "      <td>ECA</td>\n",
       "      <td>2021</td>\n",
       "      <td>55.42</td>\n",
       "    </tr>\n",
       "    <tr>\n",
       "      <th>2</th>\n",
       "      <td>No account because of insufficient funds (% wi...</td>\n",
       "      <td>fin11f.s</td>\n",
       "      <td>Latin America &amp; Caribbean (excluding high income)</td>\n",
       "      <td>LAC</td>\n",
       "      <td>2021</td>\n",
       "      <td>60.21</td>\n",
       "    </tr>\n",
       "    <tr>\n",
       "      <th>3</th>\n",
       "      <td>No account because of insufficient funds (% wi...</td>\n",
       "      <td>fin11f.s</td>\n",
       "      <td>Low &amp; middle income</td>\n",
       "      <td>LMY</td>\n",
       "      <td>2021</td>\n",
       "      <td>62.37</td>\n",
       "    </tr>\n",
       "    <tr>\n",
       "      <th>4</th>\n",
       "      <td>No account because of insufficient funds (% wi...</td>\n",
       "      <td>fin11f.s</td>\n",
       "      <td>Low income</td>\n",
       "      <td>LIC</td>\n",
       "      <td>2021</td>\n",
       "      <td>81.93</td>\n",
       "    </tr>\n",
       "  </tbody>\n",
       "</table>\n",
       "</div>"
      ],
      "text/plain": [
       "                                      Indicator Name Indicator Code  \\\n",
       "0  No account because of insufficient funds (% wi...       fin11f.s   \n",
       "1  No account because of insufficient funds (% wi...       fin11f.s   \n",
       "2  No account because of insufficient funds (% wi...       fin11f.s   \n",
       "3  No account because of insufficient funds (% wi...       fin11f.s   \n",
       "4  No account because of insufficient funds (% wi...       fin11f.s   \n",
       "\n",
       "                                        Country Name Country Code  Year  Value  \n",
       "0        East Asia & Pacific (excluding high income)          EAP  2021  65.22  \n",
       "1      Europe & Central Asia (excluding high income)          ECA  2021  55.42  \n",
       "2  Latin America & Caribbean (excluding high income)          LAC  2021  60.21  \n",
       "3                                Low & middle income          LMY  2021  62.37  \n",
       "4                                         Low income          LIC  2021  81.93  "
      ]
     },
     "execution_count": 7,
     "metadata": {},
     "output_type": "execute_result"
    }
   ],
   "source": [
    "# Create a file path\n",
    "data_path = '/Users/nataschajademinnitt/Documents/5. Data Analysis/distributionofthings.analysis/7_gbv/data/'\n",
    "figure_path = '/'\n",
    "\n",
    "# Load data\n",
    "raw = pd.read_csv(data_path + 'Contextual_Indicators.csv')\n",
    "raw.head()"
   ]
  },
  {
   "cell_type": "code",
   "execution_count": 13,
   "id": "ff30e222-27cf-4be8-8126-cc95990990d1",
   "metadata": {},
   "outputs": [
    {
     "data": {
      "text/plain": [
       "array(['No account because of insufficient funds (% without an account, age 15+)',\n",
       "       'Children out of school (% of primary school age)',\n",
       "       'Households with water less than 30 minutes away round trip (%)',\n",
       "       'Made a digital online payment for an online purchase for the first time after COVID-19 started (% age 15+)',\n",
       "       'Poverty headcount ratio at $2.15 a day (2017 PPP) (% of population)',\n",
       "       'Location of cooking: separate building (% of households)',\n",
       "       'GNI per capita, Atlas method (current US$)',\n",
       "       'People practicing open defecation (% of population)',\n",
       "       'Use a mobile money account two or more times a month (% age 15+)',\n",
       "       'Location of cooking: other places (% of households)',\n",
       "       'Can use a mobile money account without help from anyone, including a mobile money agent (% age 15+)',\n",
       "       'Location of cooking: outdoors (% of households)',\n",
       "       'Main cooking fuel: dung (% of households)',\n",
       "       'Main cooking fuel: charcoal (% of households)',\n",
       "       'Made a digital in-store merchant payment for the first time after COVID-19 started (% who made a digital in-store payment, age 15+)',\n",
       "       'Location of cooking: inside the house (% of households)',\n",
       "       'Government expenditure on education, total (% of GDP)',\n",
       "       'GDP per capita (constant 2015 US$)',\n",
       "       \"Reason for not using their inactive account: don't feel comfortable using an account by themselves (% with an inactive account, age 15+)\",\n",
       "       'Reason for not using their inactive account: no need for an account (% with an inactive account, age 15+)',\n",
       "       'Reason for not having a mobile money account: do not have their own mobile phone (% without an account, age 15+)',\n",
       "       \"Reason for not having a mobile money account: don't have enough money to use a mobile money account (% without an account, age 15+)\",\n",
       "       'Death rate, crude (per 1,000 people)',\n",
       "       'No account because financial services are too expensive (% without an account, age 15+)',\n",
       "       'Reason for not having a mobile money account: available mobile money products are too expensive (% without an account, age 15+)',\n",
       "       'GDP per capita (current US$)', 'Gini index',\n",
       "       'No account because of a lack of trust in financial institutions (% without an account, age 15+)',\n",
       "       'GNI per capita, PPP (current international $)',\n",
       "       'Made a digital in-store merchant payment for the first time after COVID-19 started (% age 15+)',\n",
       "       'Withdrew money from a financial institution account 2 or more times a month (% age 15+)',\n",
       "       'Use a mobile money account two or more times a month (% with a mobile money account, age 15+)',\n",
       "       'Main cooking fuel: electricity (% of households)',\n",
       "       'Main cooking fuel: straw/shrubs/grass (% of households)',\n",
       "       'No account because someone in the family has one (% without an account, age 15+)',\n",
       "       'GDP growth (annual %)',\n",
       "       'Households with water on the premises (%)',\n",
       "       'Immunization, measles (% of children ages 12-23 months)',\n",
       "       'Main cooking fuel: wood (% of households)',\n",
       "       'No account because of a lack of necessary documentation (% age 15+)',\n",
       "       'Reason for not having a mobile money account: use an agent or someone else to make payments (% age 15+)',\n",
       "       'No account because of a lack of trust in financial institutions (% age 15+)',\n",
       "       \"Reason for not having a mobile money account: don't have enough money to use a mobile money account (% age 15+)\",\n",
       "       'No account because of religious reasons (% age 15+)',\n",
       "       'No account because of insufficient funds (% age 15+)',\n",
       "       'Reason for not having a mobile money account: do not have their own mobile phone (% age 15+)',\n",
       "       'No account because someone in the family has one (% age 15+)',\n",
       "       'Reason for not having a mobile money account: mobile money agents are too far away (% age 15+)',\n",
       "       'Inflation, consumer prices (annual %)',\n",
       "       \"Reason for not having a mobile money account: don't have the necessary documentation (% age 15+)\",\n",
       "       'Reason for not having a mobile money account: available mobile money products are too expensive (% age 15+)',\n",
       "       'GNI, Atlas method (current US$)',\n",
       "       'Withdrew money from a financial institution account 2 or more times a month (% who had withdrawn money, age 15+)',\n",
       "       'No account because financial institutions are too far away (% age 15+)',\n",
       "       'No account because financial services are too expensive (% age 15+)',\n",
       "       'GDP (current US$)',\n",
       "       'Immunization, DPT (% of children ages 12-23 months)',\n",
       "       'Can use account at a bank or financial institution without help if opened (% without an account, age 15+)',\n",
       "       'Poverty headcount ratio at national poverty lines (% of population)',\n",
       "       'Government expenditure per student, primary (% of GDP per capita)',\n",
       "       'Government expenditure per student, secondary (% of GDP per capita)',\n",
       "       'People practicing open defecation, urban (% of urban population)',\n",
       "       'Main cooking fuel: LPG/natural gas/biogas (% of households)',\n",
       "       'Reason for not using their inactive account: bank or financial institution is too far away (% age 15+)',\n",
       "       'Households with water 30 minutes or longer away round trip (%)',\n",
       "       'Main cooking fuel: agricultural crop (% of households)',\n",
       "       'Reason for not using their inactive account: no need for an account (% age 15+)',\n",
       "       \"Reason for not using their inactive account: don't have enough money to use an account (% age 15+)\",\n",
       "       \"Reason for not using their inactive account: don't trust banks or financial institutions (% with an inactive account, age 15+)\",\n",
       "       \"Reason for not using their inactive account: don't feel comfortable using the account by themselves (% age 15+)\",\n",
       "       \"Reason for not using their inactive account: don't have enough money to use an account (% with an inactive account, age 15+)\",\n",
       "       'Reason for not having a mobile money account: use an agent or someone else to make payments (% without an account, age 15+)',\n",
       "       'Made a utility payment: using an account for the first time after COVID-19 started (% age 15+)',\n",
       "       'Reason for not using their inactive account: bank or financial institution is too far away (% with an inactive account, age 15+)',\n",
       "       \"Reason for not having a mobile money account: don't have the necessary documentation (% without an account, age 15+)\",\n",
       "       'No account because of a lack of necessary documentation (% without an account, age 15+)',\n",
       "       'Reason for not having a mobile money account: mobile money agents are too far away (% without an account, age 15+)',\n",
       "       'People practicing open defecation, rural (% of rural population)',\n",
       "       'No account because of religious reasons (% without an account, age 15+)',\n",
       "       'Can use a mobile money account without help from anyone, including a mobile money agent (% with a mobile money account, age 15+)',\n",
       "       \"Reason for not using their inactive account: don't trust banks or financial institutions (% age 15+)\",\n",
       "       'No account because financial institutions are too far away (% without an account, age 15+)'],\n",
       "      dtype=object)"
      ]
     },
     "execution_count": 13,
     "metadata": {},
     "output_type": "execute_result"
    }
   ],
   "source": [
    "raw['Indicator Name'].unique()"
   ]
  },
  {
   "cell_type": "markdown",
   "id": "31659e52-c7f3-4ac2-b663-21c8b53d37d5",
   "metadata": {},
   "source": [
    "## II. Data exploration"
   ]
  },
  {
   "cell_type": "code",
   "execution_count": null,
   "id": "88cf6677-d8d6-494b-b2f6-c89fac966d25",
   "metadata": {},
   "outputs": [],
   "source": [
    "# General info about the data (types, non-null counts, etc.)\n",
    "print(raw.info())\n",
    "\n",
    "# Check for missing values\n",
    "print(raw.isnull().sum())\n",
    "\n",
    "# Summary statistics for numerical columns\n",
    "print(raw.describe())\n"
   ]
  },
  {
   "cell_type": "markdown",
   "id": "89badbb6-1e8f-43ba-93e7-289175d3b7ce",
   "metadata": {},
   "source": [
    "## III. Data cleaning"
   ]
  },
  {
   "cell_type": "code",
   "execution_count": null,
   "id": "37e5e01f-6f04-44b9-8086-7852677c321a",
   "metadata": {},
   "outputs": [],
   "source": [
    "clean = raw.copy()\n",
    "\n",
    "# Missing values\n",
    "df.fillna(df.mean(), inplace=True)\n",
    "\n",
    "# Duplicates\n",
    "df.drop_duplicates(inplace=True)"
   ]
  },
  {
   "cell_type": "markdown",
   "id": "8a496914-29d7-4f77-8569-7f0f729d0342",
   "metadata": {},
   "source": [
    "## IV. Data visualisation"
   ]
  },
  {
   "cell_type": "code",
   "execution_count": null,
   "id": "ae4965a8-5306-4cd6-bc09-d34313302817",
   "metadata": {},
   "outputs": [],
   "source": []
  },
  {
   "cell_type": "markdown",
   "id": "4c6ec035-934b-4a41-b457-acfab08b3bfb",
   "metadata": {},
   "source": [
    "## V. Data analysis"
   ]
  },
  {
   "cell_type": "code",
   "execution_count": null,
   "id": "7fb5bdc2-b12c-4cef-ab0e-699d8593d622",
   "metadata": {},
   "outputs": [],
   "source": []
  }
 ],
 "metadata": {
  "kernelspec": {
   "display_name": "Python 3 (ipykernel)",
   "language": "python",
   "name": "python3"
  },
  "language_info": {
   "codemirror_mode": {
    "name": "ipython",
    "version": 3
   },
   "file_extension": ".py",
   "mimetype": "text/x-python",
   "name": "python",
   "nbconvert_exporter": "python",
   "pygments_lexer": "ipython3",
   "version": "3.11.7"
  }
 },
 "nbformat": 4,
 "nbformat_minor": 5
}
