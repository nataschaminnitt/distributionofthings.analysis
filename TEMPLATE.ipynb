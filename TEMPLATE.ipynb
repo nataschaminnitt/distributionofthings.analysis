{
 "cells": [
  {
   "cell_type": "markdown",
   "id": "4177f4a2-5723-42fc-95ef-1c8851ab4a98",
   "metadata": {},
   "source": [
    "# Title"
   ]
  },
  {
   "cell_type": "markdown",
   "id": "d1d3b64d-5fbf-4364-b24e-efd0b3ae366d",
   "metadata": {},
   "source": [
    "\n",
    "Data sources:"
   ]
  },
  {
   "cell_type": "markdown",
   "id": "5916a0f4-d095-4d0c-b689-2987a734d566",
   "metadata": {},
   "source": [
    "## I. Load libraries and data"
   ]
  },
  {
   "cell_type": "code",
   "execution_count": null,
   "id": "e0a8bffe-b9e7-4548-8dd5-a95710a5af32",
   "metadata": {},
   "outputs": [],
   "source": [
    "# Import libraries\n",
    "import pandas as pd\n",
    "import numpy as np\n",
    "import matplotlib.pyplot as plt\n",
    "import seaborn as sns"
   ]
  },
  {
   "cell_type": "code",
   "execution_count": null,
   "id": "dd3d0777-4a0d-4fa3-a254-58e44e1d2d30",
   "metadata": {},
   "outputs": [],
   "source": [
    "# Create a file path\n",
    "data_path =  # Add a / at the end of the path\n",
    "figure_path = # Add a / at the end of the path\n",
    "\n",
    "# Load data\n",
    "raw = pd.read_csv(data_path + 'your_file.csv')\n",
    "raw.head()"
   ]
  },
  {
   "cell_type": "markdown",
   "id": "31659e52-c7f3-4ac2-b663-21c8b53d37d5",
   "metadata": {},
   "source": [
    "## II. Data exploration"
   ]
  },
  {
   "cell_type": "code",
   "execution_count": null,
   "id": "88cf6677-d8d6-494b-b2f6-c89fac966d25",
   "metadata": {},
   "outputs": [],
   "source": [
    "# General info about the data (types, non-null counts, etc.)\n",
    "print(raw.info())\n",
    "\n",
    "# Check for missing values\n",
    "print(raw.isnull().sum())\n",
    "\n",
    "# Summary statistics for numerical columns\n",
    "print(raw.describe())\n"
   ]
  },
  {
   "cell_type": "markdown",
   "id": "89badbb6-1e8f-43ba-93e7-289175d3b7ce",
   "metadata": {},
   "source": [
    "## III. Data cleaning"
   ]
  },
  {
   "cell_type": "code",
   "execution_count": null,
   "id": "37e5e01f-6f04-44b9-8086-7852677c321a",
   "metadata": {},
   "outputs": [],
   "source": [
    "clean = raw.copy()\n",
    "\n",
    "# Missing values\n",
    "df.fillna(df.mean(), inplace=True)\n",
    "\n",
    "# Duplicates\n",
    "df.drop_duplicates(inplace=True)"
   ]
  },
  {
   "cell_type": "markdown",
   "id": "8a496914-29d7-4f77-8569-7f0f729d0342",
   "metadata": {},
   "source": [
    "## IV. Data visualisation"
   ]
  },
  {
   "cell_type": "code",
   "execution_count": null,
   "id": "ae4965a8-5306-4cd6-bc09-d34313302817",
   "metadata": {},
   "outputs": [],
   "source": []
  },
  {
   "cell_type": "markdown",
   "id": "4c6ec035-934b-4a41-b457-acfab08b3bfb",
   "metadata": {},
   "source": [
    "## V. Data analysis"
   ]
  },
  {
   "cell_type": "code",
   "execution_count": null,
   "id": "7fb5bdc2-b12c-4cef-ab0e-699d8593d622",
   "metadata": {},
   "outputs": [],
   "source": []
  }
 ],
 "metadata": {
  "kernelspec": {
   "display_name": "Python 3 (ipykernel)",
   "language": "python",
   "name": "python3"
  },
  "language_info": {
   "codemirror_mode": {
    "name": "ipython",
    "version": 3
   },
   "file_extension": ".py",
   "mimetype": "text/x-python",
   "name": "python",
   "nbconvert_exporter": "python",
   "pygments_lexer": "ipython3",
   "version": "3.11.7"
  }
 },
 "nbformat": 4,
 "nbformat_minor": 5
}
